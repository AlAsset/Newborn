{
 "cells": [
  {
   "cell_type": "markdown",
   "id": "d9bd891d",
   "metadata": {},
   "source": [
    "# Olzhas Malik\n",
    "ID:45357"
   ]
  },
  {
   "cell_type": "code",
   "execution_count": 1,
   "id": "d0402f1b",
   "metadata": {},
   "outputs": [
    {
     "name": "stdout",
     "output_type": "stream",
     "text": [
      "Hello world\n"
     ]
    }
   ],
   "source": [
    "print(\"Hello world\")"
   ]
  },
  {
   "cell_type": "markdown",
   "id": "1cfb7170",
   "metadata": {},
   "source": [
    "# Imports and Load Data"
   ]
  },
  {
   "cell_type": "code",
   "execution_count": 2,
   "id": "9979dd1b",
   "metadata": {},
   "outputs": [],
   "source": [
    "import pandas as pd\n",
    "import numpy as np\n",
    "import seaborn as sns\n",
    "import matplotlib.pyplot as plt\n",
    "from sklearn.model_selection import train_test_split\n",
    "from sklearn.preprocessing import StandardScaler\n",
    "from sklearn.linear_model import LinearRegression\n",
    "from sklearn.neighbors import KNeighborsRegressor\n",
    "from sklearn.svm import SVR\n",
    "from sklearn.metrics import mean_absolute_percentage_error\n",
    "from sklearn.preprocessing import StandardScaler, OneHotEncoder\n",
    "pd.options.mode.chained_assignment = None"
   ]
  },
  {
   "cell_type": "code",
   "execution_count": 3,
   "id": "56fea447",
   "metadata": {},
   "outputs": [],
   "source": [
    "import numpy as np\n",
    "import seaborn as sns\n",
    "import matplotlib.pyplot as plt\n",
    "import random\n",
    "import scipy.stats as stats"
   ]
  },
  {
   "cell_type": "code",
   "execution_count": 4,
   "id": "eaaf32dd",
   "metadata": {},
   "outputs": [],
   "source": [
    "import pandas as pd\n",
    "from sklearn.model_selection import train_test_split\n",
    "from sklearn.linear_model import LinearRegression\n",
    "from sklearn.ensemble import RandomForestRegressor, GradientBoostingRegressor\n",
    "from sklearn.metrics import mean_absolute_percentage_error"
   ]
  },
  {
   "cell_type": "code",
   "execution_count": 5,
   "id": "7be66807",
   "metadata": {},
   "outputs": [
    {
     "data": {
      "text/html": [
       "<div>\n",
       "<style scoped>\n",
       "    .dataframe tbody tr th:only-of-type {\n",
       "        vertical-align: middle;\n",
       "    }\n",
       "\n",
       "    .dataframe tbody tr th {\n",
       "        vertical-align: top;\n",
       "    }\n",
       "\n",
       "    .dataframe thead th {\n",
       "        text-align: right;\n",
       "    }\n",
       "</style>\n",
       "<table border=\"1\" class=\"dataframe\">\n",
       "  <thead>\n",
       "    <tr style=\"text-align: right;\">\n",
       "      <th></th>\n",
       "      <th>mother_body_mass_index</th>\n",
       "      <th>mother_marital_status</th>\n",
       "      <th>mother_delivery_weight</th>\n",
       "      <th>mother_race</th>\n",
       "      <th>mother_height</th>\n",
       "      <th>mother_weight_gain</th>\n",
       "      <th>father_age</th>\n",
       "      <th>father_education</th>\n",
       "      <th>cigarettes_before_pregnancy</th>\n",
       "      <th>prenatal_care_month</th>\n",
       "      <th>number_prenatal_visits</th>\n",
       "      <th>previous_cesarean</th>\n",
       "      <th>newborn_gender</th>\n",
       "    </tr>\n",
       "  </thead>\n",
       "  <tbody>\n",
       "    <tr>\n",
       "      <th>0</th>\n",
       "      <td>22.3</td>\n",
       "      <td>1.0</td>\n",
       "      <td>149.0</td>\n",
       "      <td>4</td>\n",
       "      <td>63.0</td>\n",
       "      <td>23.0</td>\n",
       "      <td>30.0</td>\n",
       "      <td>6</td>\n",
       "      <td>0.0</td>\n",
       "      <td>2</td>\n",
       "      <td>15.0</td>\n",
       "      <td>N</td>\n",
       "      <td>F</td>\n",
       "    </tr>\n",
       "    <tr>\n",
       "      <th>1</th>\n",
       "      <td>27.4</td>\n",
       "      <td>1.0</td>\n",
       "      <td>198.0</td>\n",
       "      <td>1</td>\n",
       "      <td>67.0</td>\n",
       "      <td>23.0</td>\n",
       "      <td>28.0</td>\n",
       "      <td>3</td>\n",
       "      <td>0.0</td>\n",
       "      <td>4</td>\n",
       "      <td>16.0</td>\n",
       "      <td>N</td>\n",
       "      <td>F</td>\n",
       "    </tr>\n",
       "    <tr>\n",
       "      <th>2</th>\n",
       "      <td>24.7</td>\n",
       "      <td>2.0</td>\n",
       "      <td>164.0</td>\n",
       "      <td>2</td>\n",
       "      <td>64.0</td>\n",
       "      <td>20.0</td>\n",
       "      <td>22.0</td>\n",
       "      <td>2</td>\n",
       "      <td>0.0</td>\n",
       "      <td>2</td>\n",
       "      <td>11.0</td>\n",
       "      <td>N</td>\n",
       "      <td>F</td>\n",
       "    </tr>\n",
       "    <tr>\n",
       "      <th>3</th>\n",
       "      <td>34.7</td>\n",
       "      <td>2.0</td>\n",
       "      <td>235.0</td>\n",
       "      <td>1</td>\n",
       "      <td>66.0</td>\n",
       "      <td>20.0</td>\n",
       "      <td>24.0</td>\n",
       "      <td>3</td>\n",
       "      <td>0.0</td>\n",
       "      <td>2</td>\n",
       "      <td>13.0</td>\n",
       "      <td>N</td>\n",
       "      <td>M</td>\n",
       "    </tr>\n",
       "    <tr>\n",
       "      <th>4</th>\n",
       "      <td>35.7</td>\n",
       "      <td>NaN</td>\n",
       "      <td>213.0</td>\n",
       "      <td>2</td>\n",
       "      <td>64.0</td>\n",
       "      <td>5.0</td>\n",
       "      <td>NaN</td>\n",
       "      <td>9</td>\n",
       "      <td>0.0</td>\n",
       "      <td>3</td>\n",
       "      <td>9.0</td>\n",
       "      <td>N</td>\n",
       "      <td>F</td>\n",
       "    </tr>\n",
       "  </tbody>\n",
       "</table>\n",
       "</div>"
      ],
      "text/plain": [
       "   mother_body_mass_index  mother_marital_status  mother_delivery_weight  \\\n",
       "0                    22.3                    1.0                   149.0   \n",
       "1                    27.4                    1.0                   198.0   \n",
       "2                    24.7                    2.0                   164.0   \n",
       "3                    34.7                    2.0                   235.0   \n",
       "4                    35.7                    NaN                   213.0   \n",
       "\n",
       "   mother_race  mother_height  mother_weight_gain  father_age  \\\n",
       "0            4           63.0                23.0        30.0   \n",
       "1            1           67.0                23.0        28.0   \n",
       "2            2           64.0                20.0        22.0   \n",
       "3            1           66.0                20.0        24.0   \n",
       "4            2           64.0                 5.0         NaN   \n",
       "\n",
       "   father_education  cigarettes_before_pregnancy  prenatal_care_month  \\\n",
       "0                 6                          0.0                    2   \n",
       "1                 3                          0.0                    4   \n",
       "2                 2                          0.0                    2   \n",
       "3                 3                          0.0                    2   \n",
       "4                 9                          0.0                    3   \n",
       "\n",
       "   number_prenatal_visits previous_cesarean newborn_gender  \n",
       "0                    15.0                 N              F  \n",
       "1                    16.0                 N              F  \n",
       "2                    11.0                 N              F  \n",
       "3                    13.0                 N              M  \n",
       "4                     9.0                 N              F  "
      ]
     },
     "execution_count": 5,
     "metadata": {},
     "output_type": "execute_result"
    }
   ],
   "source": [
    "newborn_test = pd.read_csv(\"newborn_test.csv\",encoding=\"windows-1251\")\n",
    "newborn_test.head() #take a look on top of the dataset"
   ]
  },
  {
   "cell_type": "code",
   "execution_count": 6,
   "id": "11c79fc9",
   "metadata": {},
   "outputs": [
    {
     "data": {
      "text/html": [
       "<div>\n",
       "<style scoped>\n",
       "    .dataframe tbody tr th:only-of-type {\n",
       "        vertical-align: middle;\n",
       "    }\n",
       "\n",
       "    .dataframe tbody tr th {\n",
       "        vertical-align: top;\n",
       "    }\n",
       "\n",
       "    .dataframe thead th {\n",
       "        text-align: right;\n",
       "    }\n",
       "</style>\n",
       "<table border=\"1\" class=\"dataframe\">\n",
       "  <thead>\n",
       "    <tr style=\"text-align: right;\">\n",
       "      <th></th>\n",
       "      <th>mother_body_mass_index</th>\n",
       "      <th>mother_marital_status</th>\n",
       "      <th>mother_delivery_weight</th>\n",
       "      <th>mother_race</th>\n",
       "      <th>mother_height</th>\n",
       "      <th>mother_weight_gain</th>\n",
       "      <th>father_age</th>\n",
       "      <th>father_education</th>\n",
       "      <th>cigarettes_before_pregnancy</th>\n",
       "      <th>prenatal_care_month</th>\n",
       "      <th>number_prenatal_visits</th>\n",
       "      <th>previous_cesarean</th>\n",
       "      <th>newborn_gender</th>\n",
       "      <th>newborn_weight</th>\n",
       "    </tr>\n",
       "  </thead>\n",
       "  <tbody>\n",
       "    <tr>\n",
       "      <th>0</th>\n",
       "      <td>30.8</td>\n",
       "      <td>2.0</td>\n",
       "      <td>220.0</td>\n",
       "      <td>1</td>\n",
       "      <td>65.0</td>\n",
       "      <td>35.0</td>\n",
       "      <td>29.0</td>\n",
       "      <td>6</td>\n",
       "      <td>0.0</td>\n",
       "      <td>2</td>\n",
       "      <td>10.0</td>\n",
       "      <td>N</td>\n",
       "      <td>F</td>\n",
       "      <td>3045</td>\n",
       "    </tr>\n",
       "    <tr>\n",
       "      <th>1</th>\n",
       "      <td>45.8</td>\n",
       "      <td>NaN</td>\n",
       "      <td>293.0</td>\n",
       "      <td>1</td>\n",
       "      <td>64.0</td>\n",
       "      <td>26.0</td>\n",
       "      <td>37.0</td>\n",
       "      <td>4</td>\n",
       "      <td>0.0</td>\n",
       "      <td>3</td>\n",
       "      <td>10.0</td>\n",
       "      <td>N</td>\n",
       "      <td>F</td>\n",
       "      <td>3061</td>\n",
       "    </tr>\n",
       "    <tr>\n",
       "      <th>2</th>\n",
       "      <td>NaN</td>\n",
       "      <td>1.0</td>\n",
       "      <td>NaN</td>\n",
       "      <td>1</td>\n",
       "      <td>66.0</td>\n",
       "      <td>NaN</td>\n",
       "      <td>33.0</td>\n",
       "      <td>6</td>\n",
       "      <td>0.0</td>\n",
       "      <td>3</td>\n",
       "      <td>NaN</td>\n",
       "      <td>N</td>\n",
       "      <td>F</td>\n",
       "      <td>3827</td>\n",
       "    </tr>\n",
       "    <tr>\n",
       "      <th>3</th>\n",
       "      <td>24.3</td>\n",
       "      <td>1.0</td>\n",
       "      <td>157.0</td>\n",
       "      <td>1</td>\n",
       "      <td>NaN</td>\n",
       "      <td>20.0</td>\n",
       "      <td>27.0</td>\n",
       "      <td>6</td>\n",
       "      <td>0.0</td>\n",
       "      <td>3</td>\n",
       "      <td>9.0</td>\n",
       "      <td>N</td>\n",
       "      <td>M</td>\n",
       "      <td>3997</td>\n",
       "    </tr>\n",
       "    <tr>\n",
       "      <th>4</th>\n",
       "      <td>24.1</td>\n",
       "      <td>1.0</td>\n",
       "      <td>187.0</td>\n",
       "      <td>1</td>\n",
       "      <td>65.0</td>\n",
       "      <td>42.0</td>\n",
       "      <td>29.0</td>\n",
       "      <td>8</td>\n",
       "      <td>0.0</td>\n",
       "      <td>2</td>\n",
       "      <td>12.0</td>\n",
       "      <td>N</td>\n",
       "      <td>F</td>\n",
       "      <td>3240</td>\n",
       "    </tr>\n",
       "  </tbody>\n",
       "</table>\n",
       "</div>"
      ],
      "text/plain": [
       "   mother_body_mass_index  mother_marital_status  mother_delivery_weight  \\\n",
       "0                    30.8                    2.0                   220.0   \n",
       "1                    45.8                    NaN                   293.0   \n",
       "2                     NaN                    1.0                     NaN   \n",
       "3                    24.3                    1.0                   157.0   \n",
       "4                    24.1                    1.0                   187.0   \n",
       "\n",
       "   mother_race  mother_height  mother_weight_gain  father_age  \\\n",
       "0            1           65.0                35.0        29.0   \n",
       "1            1           64.0                26.0        37.0   \n",
       "2            1           66.0                 NaN        33.0   \n",
       "3            1            NaN                20.0        27.0   \n",
       "4            1           65.0                42.0        29.0   \n",
       "\n",
       "   father_education  cigarettes_before_pregnancy  prenatal_care_month  \\\n",
       "0                 6                          0.0                    2   \n",
       "1                 4                          0.0                    3   \n",
       "2                 6                          0.0                    3   \n",
       "3                 6                          0.0                    3   \n",
       "4                 8                          0.0                    2   \n",
       "\n",
       "   number_prenatal_visits previous_cesarean newborn_gender  newborn_weight  \n",
       "0                    10.0                 N              F            3045  \n",
       "1                    10.0                 N              F            3061  \n",
       "2                     NaN                 N              F            3827  \n",
       "3                     9.0                 N              M            3997  \n",
       "4                    12.0                 N              F            3240  "
      ]
     },
     "execution_count": 6,
     "metadata": {},
     "output_type": "execute_result"
    }
   ],
   "source": [
    "newborn_train = pd.read_csv(\"newborn_train.csv\",encoding=\"windows-1251\")\n",
    "newborn_train.head() #take a look on top of the dataset"
   ]
  },
  {
   "cell_type": "code",
   "execution_count": 7,
   "id": "ddf2d2e0",
   "metadata": {},
   "outputs": [
    {
     "name": "stdout",
     "output_type": "stream",
     "text": [
      "\n",
      "TRAIN:\n"
     ]
    },
    {
     "data": {
      "text/html": [
       "<div>\n",
       "<style scoped>\n",
       "    .dataframe tbody tr th:only-of-type {\n",
       "        vertical-align: middle;\n",
       "    }\n",
       "\n",
       "    .dataframe tbody tr th {\n",
       "        vertical-align: top;\n",
       "    }\n",
       "\n",
       "    .dataframe thead th {\n",
       "        text-align: right;\n",
       "    }\n",
       "</style>\n",
       "<table border=\"1\" class=\"dataframe\">\n",
       "  <thead>\n",
       "    <tr style=\"text-align: right;\">\n",
       "      <th></th>\n",
       "      <th>mother_body_mass_index</th>\n",
       "      <th>mother_marital_status</th>\n",
       "      <th>mother_delivery_weight</th>\n",
       "      <th>mother_race</th>\n",
       "      <th>mother_height</th>\n",
       "      <th>mother_weight_gain</th>\n",
       "      <th>father_age</th>\n",
       "      <th>father_education</th>\n",
       "      <th>cigarettes_before_pregnancy</th>\n",
       "      <th>prenatal_care_month</th>\n",
       "      <th>number_prenatal_visits</th>\n",
       "      <th>previous_cesarean</th>\n",
       "      <th>newborn_gender</th>\n",
       "      <th>newborn_weight</th>\n",
       "    </tr>\n",
       "  </thead>\n",
       "  <tbody>\n",
       "    <tr>\n",
       "      <th>0</th>\n",
       "      <td>30.8</td>\n",
       "      <td>2.0</td>\n",
       "      <td>220.0</td>\n",
       "      <td>1</td>\n",
       "      <td>65.0</td>\n",
       "      <td>35.0</td>\n",
       "      <td>29.0</td>\n",
       "      <td>6</td>\n",
       "      <td>0.0</td>\n",
       "      <td>2</td>\n",
       "      <td>10.0</td>\n",
       "      <td>N</td>\n",
       "      <td>F</td>\n",
       "      <td>3045</td>\n",
       "    </tr>\n",
       "    <tr>\n",
       "      <th>1</th>\n",
       "      <td>45.8</td>\n",
       "      <td>NaN</td>\n",
       "      <td>293.0</td>\n",
       "      <td>1</td>\n",
       "      <td>64.0</td>\n",
       "      <td>26.0</td>\n",
       "      <td>37.0</td>\n",
       "      <td>4</td>\n",
       "      <td>0.0</td>\n",
       "      <td>3</td>\n",
       "      <td>10.0</td>\n",
       "      <td>N</td>\n",
       "      <td>F</td>\n",
       "      <td>3061</td>\n",
       "    </tr>\n",
       "    <tr>\n",
       "      <th>2</th>\n",
       "      <td>NaN</td>\n",
       "      <td>1.0</td>\n",
       "      <td>NaN</td>\n",
       "      <td>1</td>\n",
       "      <td>66.0</td>\n",
       "      <td>NaN</td>\n",
       "      <td>33.0</td>\n",
       "      <td>6</td>\n",
       "      <td>0.0</td>\n",
       "      <td>3</td>\n",
       "      <td>NaN</td>\n",
       "      <td>N</td>\n",
       "      <td>F</td>\n",
       "      <td>3827</td>\n",
       "    </tr>\n",
       "    <tr>\n",
       "      <th>3</th>\n",
       "      <td>24.3</td>\n",
       "      <td>1.0</td>\n",
       "      <td>157.0</td>\n",
       "      <td>1</td>\n",
       "      <td>NaN</td>\n",
       "      <td>20.0</td>\n",
       "      <td>27.0</td>\n",
       "      <td>6</td>\n",
       "      <td>0.0</td>\n",
       "      <td>3</td>\n",
       "      <td>9.0</td>\n",
       "      <td>N</td>\n",
       "      <td>M</td>\n",
       "      <td>3997</td>\n",
       "    </tr>\n",
       "    <tr>\n",
       "      <th>4</th>\n",
       "      <td>24.1</td>\n",
       "      <td>1.0</td>\n",
       "      <td>187.0</td>\n",
       "      <td>1</td>\n",
       "      <td>65.0</td>\n",
       "      <td>42.0</td>\n",
       "      <td>29.0</td>\n",
       "      <td>8</td>\n",
       "      <td>0.0</td>\n",
       "      <td>2</td>\n",
       "      <td>12.0</td>\n",
       "      <td>N</td>\n",
       "      <td>F</td>\n",
       "      <td>3240</td>\n",
       "    </tr>\n",
       "  </tbody>\n",
       "</table>\n",
       "</div>"
      ],
      "text/plain": [
       "   mother_body_mass_index  mother_marital_status  mother_delivery_weight  \\\n",
       "0                    30.8                    2.0                   220.0   \n",
       "1                    45.8                    NaN                   293.0   \n",
       "2                     NaN                    1.0                     NaN   \n",
       "3                    24.3                    1.0                   157.0   \n",
       "4                    24.1                    1.0                   187.0   \n",
       "\n",
       "   mother_race  mother_height  mother_weight_gain  father_age  \\\n",
       "0            1           65.0                35.0        29.0   \n",
       "1            1           64.0                26.0        37.0   \n",
       "2            1           66.0                 NaN        33.0   \n",
       "3            1            NaN                20.0        27.0   \n",
       "4            1           65.0                42.0        29.0   \n",
       "\n",
       "   father_education  cigarettes_before_pregnancy  prenatal_care_month  \\\n",
       "0                 6                          0.0                    2   \n",
       "1                 4                          0.0                    3   \n",
       "2                 6                          0.0                    3   \n",
       "3                 6                          0.0                    3   \n",
       "4                 8                          0.0                    2   \n",
       "\n",
       "   number_prenatal_visits previous_cesarean newborn_gender  newborn_weight  \n",
       "0                    10.0                 N              F            3045  \n",
       "1                    10.0                 N              F            3061  \n",
       "2                     NaN                 N              F            3827  \n",
       "3                     9.0                 N              M            3997  \n",
       "4                    12.0                 N              F            3240  "
      ]
     },
     "metadata": {},
     "output_type": "display_data"
    },
    {
     "name": "stdout",
     "output_type": "stream",
     "text": [
      "SHAPE: (2398116, 14)\n",
      "\n",
      "TEST:\n"
     ]
    },
    {
     "data": {
      "text/html": [
       "<div>\n",
       "<style scoped>\n",
       "    .dataframe tbody tr th:only-of-type {\n",
       "        vertical-align: middle;\n",
       "    }\n",
       "\n",
       "    .dataframe tbody tr th {\n",
       "        vertical-align: top;\n",
       "    }\n",
       "\n",
       "    .dataframe thead th {\n",
       "        text-align: right;\n",
       "    }\n",
       "</style>\n",
       "<table border=\"1\" class=\"dataframe\">\n",
       "  <thead>\n",
       "    <tr style=\"text-align: right;\">\n",
       "      <th></th>\n",
       "      <th>mother_body_mass_index</th>\n",
       "      <th>mother_marital_status</th>\n",
       "      <th>mother_delivery_weight</th>\n",
       "      <th>mother_race</th>\n",
       "      <th>mother_height</th>\n",
       "      <th>mother_weight_gain</th>\n",
       "      <th>father_age</th>\n",
       "      <th>father_education</th>\n",
       "      <th>cigarettes_before_pregnancy</th>\n",
       "      <th>prenatal_care_month</th>\n",
       "      <th>number_prenatal_visits</th>\n",
       "      <th>previous_cesarean</th>\n",
       "      <th>newborn_gender</th>\n",
       "    </tr>\n",
       "  </thead>\n",
       "  <tbody>\n",
       "    <tr>\n",
       "      <th>0</th>\n",
       "      <td>22.3</td>\n",
       "      <td>1.0</td>\n",
       "      <td>149.0</td>\n",
       "      <td>4</td>\n",
       "      <td>63.0</td>\n",
       "      <td>23.0</td>\n",
       "      <td>30.0</td>\n",
       "      <td>6</td>\n",
       "      <td>0.0</td>\n",
       "      <td>2</td>\n",
       "      <td>15.0</td>\n",
       "      <td>N</td>\n",
       "      <td>F</td>\n",
       "    </tr>\n",
       "    <tr>\n",
       "      <th>1</th>\n",
       "      <td>27.4</td>\n",
       "      <td>1.0</td>\n",
       "      <td>198.0</td>\n",
       "      <td>1</td>\n",
       "      <td>67.0</td>\n",
       "      <td>23.0</td>\n",
       "      <td>28.0</td>\n",
       "      <td>3</td>\n",
       "      <td>0.0</td>\n",
       "      <td>4</td>\n",
       "      <td>16.0</td>\n",
       "      <td>N</td>\n",
       "      <td>F</td>\n",
       "    </tr>\n",
       "    <tr>\n",
       "      <th>2</th>\n",
       "      <td>24.7</td>\n",
       "      <td>2.0</td>\n",
       "      <td>164.0</td>\n",
       "      <td>2</td>\n",
       "      <td>64.0</td>\n",
       "      <td>20.0</td>\n",
       "      <td>22.0</td>\n",
       "      <td>2</td>\n",
       "      <td>0.0</td>\n",
       "      <td>2</td>\n",
       "      <td>11.0</td>\n",
       "      <td>N</td>\n",
       "      <td>F</td>\n",
       "    </tr>\n",
       "    <tr>\n",
       "      <th>3</th>\n",
       "      <td>34.7</td>\n",
       "      <td>2.0</td>\n",
       "      <td>235.0</td>\n",
       "      <td>1</td>\n",
       "      <td>66.0</td>\n",
       "      <td>20.0</td>\n",
       "      <td>24.0</td>\n",
       "      <td>3</td>\n",
       "      <td>0.0</td>\n",
       "      <td>2</td>\n",
       "      <td>13.0</td>\n",
       "      <td>N</td>\n",
       "      <td>M</td>\n",
       "    </tr>\n",
       "    <tr>\n",
       "      <th>4</th>\n",
       "      <td>35.7</td>\n",
       "      <td>NaN</td>\n",
       "      <td>213.0</td>\n",
       "      <td>2</td>\n",
       "      <td>64.0</td>\n",
       "      <td>5.0</td>\n",
       "      <td>NaN</td>\n",
       "      <td>9</td>\n",
       "      <td>0.0</td>\n",
       "      <td>3</td>\n",
       "      <td>9.0</td>\n",
       "      <td>N</td>\n",
       "      <td>F</td>\n",
       "    </tr>\n",
       "  </tbody>\n",
       "</table>\n",
       "</div>"
      ],
      "text/plain": [
       "   mother_body_mass_index  mother_marital_status  mother_delivery_weight  \\\n",
       "0                    22.3                    1.0                   149.0   \n",
       "1                    27.4                    1.0                   198.0   \n",
       "2                    24.7                    2.0                   164.0   \n",
       "3                    34.7                    2.0                   235.0   \n",
       "4                    35.7                    NaN                   213.0   \n",
       "\n",
       "   mother_race  mother_height  mother_weight_gain  father_age  \\\n",
       "0            4           63.0                23.0        30.0   \n",
       "1            1           67.0                23.0        28.0   \n",
       "2            2           64.0                20.0        22.0   \n",
       "3            1           66.0                20.0        24.0   \n",
       "4            2           64.0                 5.0         NaN   \n",
       "\n",
       "   father_education  cigarettes_before_pregnancy  prenatal_care_month  \\\n",
       "0                 6                          0.0                    2   \n",
       "1                 3                          0.0                    4   \n",
       "2                 2                          0.0                    2   \n",
       "3                 3                          0.0                    2   \n",
       "4                 9                          0.0                    3   \n",
       "\n",
       "   number_prenatal_visits previous_cesarean newborn_gender  \n",
       "0                    15.0                 N              F  \n",
       "1                    16.0                 N              F  \n",
       "2                    11.0                 N              F  \n",
       "3                    13.0                 N              M  \n",
       "4                     9.0                 N              F  "
      ]
     },
     "metadata": {},
     "output_type": "display_data"
    },
    {
     "name": "stdout",
     "output_type": "stream",
     "text": [
      "SHAPE: (599561, 13)\n"
     ]
    }
   ],
   "source": [
    "print(\"\\nTRAIN:\")\n",
    "display(newborn_train.head())\n",
    "print(\"SHAPE:\",newborn_train.shape)\n",
    "print(\"\\nTEST:\")\n",
    "display(newborn_test.head())\n",
    "print(\"SHAPE:\",newborn_test.shape)"
   ]
  },
  {
   "cell_type": "code",
   "execution_count": 8,
   "id": "edea2b75",
   "metadata": {},
   "outputs": [
    {
     "name": "stdout",
     "output_type": "stream",
     "text": [
      "<class 'pandas.core.frame.DataFrame'>\n",
      "RangeIndex: 2398116 entries, 0 to 2398115\n",
      "Data columns (total 14 columns):\n",
      " #   Column                       Dtype  \n",
      "---  ------                       -----  \n",
      " 0   mother_body_mass_index       float64\n",
      " 1   mother_marital_status        float64\n",
      " 2   mother_delivery_weight       float64\n",
      " 3   mother_race                  int64  \n",
      " 4   mother_height                float64\n",
      " 5   mother_weight_gain           float64\n",
      " 6   father_age                   float64\n",
      " 7   father_education             int64  \n",
      " 8   cigarettes_before_pregnancy  float64\n",
      " 9   prenatal_care_month          int64  \n",
      " 10  number_prenatal_visits       float64\n",
      " 11  previous_cesarean            object \n",
      " 12  newborn_gender               object \n",
      " 13  newborn_weight               int64  \n",
      "dtypes: float64(8), int64(4), object(2)\n",
      "memory usage: 256.1+ MB\n"
     ]
    }
   ],
   "source": [
    "newborn_train.info()"
   ]
  },
  {
   "cell_type": "code",
   "execution_count": 9,
   "id": "3407e8c6",
   "metadata": {},
   "outputs": [
    {
     "name": "stdout",
     "output_type": "stream",
     "text": [
      "<class 'pandas.core.frame.DataFrame'>\n",
      "RangeIndex: 599561 entries, 0 to 599560\n",
      "Data columns (total 13 columns):\n",
      " #   Column                       Non-Null Count   Dtype  \n",
      "---  ------                       --------------   -----  \n",
      " 0   mother_body_mass_index       562770 non-null  float64\n",
      " 1   mother_marital_status        496177 non-null  float64\n",
      " 2   mother_delivery_weight       590917 non-null  float64\n",
      " 3   mother_race                  599561 non-null  int64  \n",
      " 4   mother_height                538002 non-null  float64\n",
      " 5   mother_weight_gain           581227 non-null  float64\n",
      " 6   father_age                   489043 non-null  float64\n",
      " 7   father_education             599561 non-null  int64  \n",
      " 8   cigarettes_before_pregnancy  596654 non-null  float64\n",
      " 9   prenatal_care_month          599561 non-null  int64  \n",
      " 10  number_prenatal_visits       584576 non-null  float64\n",
      " 11  previous_cesarean            599561 non-null  object \n",
      " 12  newborn_gender               599561 non-null  object \n",
      "dtypes: float64(8), int64(3), object(2)\n",
      "memory usage: 59.5+ MB\n"
     ]
    }
   ],
   "source": [
    "newborn_test.info()"
   ]
  },
  {
   "cell_type": "code",
   "execution_count": 10,
   "id": "1c3f9541",
   "metadata": {},
   "outputs": [
    {
     "data": {
      "text/plain": [
       "mother_body_mass_index         146600\n",
       "mother_marital_status          412510\n",
       "mother_delivery_weight          34958\n",
       "mother_race                         0\n",
       "mother_height                  244529\n",
       "mother_weight_gain              73473\n",
       "father_age                     444506\n",
       "father_education                    0\n",
       "cigarettes_before_pregnancy     11301\n",
       "prenatal_care_month                 0\n",
       "number_prenatal_visits          59901\n",
       "previous_cesarean                   0\n",
       "newborn_gender                      0\n",
       "newborn_weight                      0\n",
       "dtype: int64"
      ]
     },
     "execution_count": 10,
     "metadata": {},
     "output_type": "execute_result"
    }
   ],
   "source": [
    "newborn_train.isna().sum()"
   ]
  },
  {
   "cell_type": "code",
   "execution_count": 11,
   "id": "0b916fa5",
   "metadata": {},
   "outputs": [
    {
     "data": {
      "text/plain": [
       "mother_body_mass_index          36791\n",
       "mother_marital_status          103384\n",
       "mother_delivery_weight           8644\n",
       "mother_race                         0\n",
       "mother_height                   61559\n",
       "mother_weight_gain              18334\n",
       "father_age                     110518\n",
       "father_education                    0\n",
       "cigarettes_before_pregnancy      2907\n",
       "prenatal_care_month                 0\n",
       "number_prenatal_visits          14985\n",
       "previous_cesarean                   0\n",
       "newborn_gender                      0\n",
       "dtype: int64"
      ]
     },
     "execution_count": 11,
     "metadata": {},
     "output_type": "execute_result"
    }
   ],
   "source": [
    "newborn_test.isna().sum()"
   ]
  },
  {
   "cell_type": "code",
   "execution_count": 12,
   "id": "c9926459",
   "metadata": {},
   "outputs": [
    {
     "data": {
      "text/html": [
       "<div>\n",
       "<style scoped>\n",
       "    .dataframe tbody tr th:only-of-type {\n",
       "        vertical-align: middle;\n",
       "    }\n",
       "\n",
       "    .dataframe tbody tr th {\n",
       "        vertical-align: top;\n",
       "    }\n",
       "\n",
       "    .dataframe thead th {\n",
       "        text-align: right;\n",
       "    }\n",
       "</style>\n",
       "<table border=\"1\" class=\"dataframe\">\n",
       "  <thead>\n",
       "    <tr style=\"text-align: right;\">\n",
       "      <th></th>\n",
       "      <th>mother_body_mass_index</th>\n",
       "      <th>mother_marital_status</th>\n",
       "      <th>mother_delivery_weight</th>\n",
       "      <th>mother_race</th>\n",
       "      <th>mother_height</th>\n",
       "      <th>mother_weight_gain</th>\n",
       "      <th>father_age</th>\n",
       "      <th>father_education</th>\n",
       "      <th>cigarettes_before_pregnancy</th>\n",
       "      <th>prenatal_care_month</th>\n",
       "      <th>number_prenatal_visits</th>\n",
       "      <th>newborn_weight</th>\n",
       "    </tr>\n",
       "  </thead>\n",
       "  <tbody>\n",
       "    <tr>\n",
       "      <th>count</th>\n",
       "      <td>2.251516e+06</td>\n",
       "      <td>1.985606e+06</td>\n",
       "      <td>2.363158e+06</td>\n",
       "      <td>2.398116e+06</td>\n",
       "      <td>2.153587e+06</td>\n",
       "      <td>2.324643e+06</td>\n",
       "      <td>1.953610e+06</td>\n",
       "      <td>2.398116e+06</td>\n",
       "      <td>2.386815e+06</td>\n",
       "      <td>2.398116e+06</td>\n",
       "      <td>2.338215e+06</td>\n",
       "      <td>2.398116e+06</td>\n",
       "    </tr>\n",
       "    <tr>\n",
       "      <th>mean</th>\n",
       "      <td>2.716721e+01</td>\n",
       "      <td>1.399560e+00</td>\n",
       "      <td>1.883170e+02</td>\n",
       "      <td>1.522342e+00</td>\n",
       "      <td>6.412125e+01</td>\n",
       "      <td>2.948373e+01</td>\n",
       "      <td>3.180109e+01</td>\n",
       "      <td>4.904241e+00</td>\n",
       "      <td>1.104388e+00</td>\n",
       "      <td>5.295876e+00</td>\n",
       "      <td>1.129318e+01</td>\n",
       "      <td>3.261835e+03</td>\n",
       "    </tr>\n",
       "    <tr>\n",
       "      <th>std</th>\n",
       "      <td>6.755758e+00</td>\n",
       "      <td>4.898080e-01</td>\n",
       "      <td>4.136924e+01</td>\n",
       "      <td>1.111554e+00</td>\n",
       "      <td>2.835525e+00</td>\n",
       "      <td>1.514630e+01</td>\n",
       "      <td>6.812647e+00</td>\n",
       "      <td>2.305806e+00</td>\n",
       "      <td>4.730520e+00</td>\n",
       "      <td>1.505508e+01</td>\n",
       "      <td>4.197046e+00</td>\n",
       "      <td>5.904724e+02</td>\n",
       "    </tr>\n",
       "    <tr>\n",
       "      <th>min</th>\n",
       "      <td>1.300000e+01</td>\n",
       "      <td>1.000000e+00</td>\n",
       "      <td>1.000000e+02</td>\n",
       "      <td>1.000000e+00</td>\n",
       "      <td>3.000000e+01</td>\n",
       "      <td>0.000000e+00</td>\n",
       "      <td>1.100000e+01</td>\n",
       "      <td>1.000000e+00</td>\n",
       "      <td>0.000000e+00</td>\n",
       "      <td>0.000000e+00</td>\n",
       "      <td>0.000000e+00</td>\n",
       "      <td>2.270000e+02</td>\n",
       "    </tr>\n",
       "    <tr>\n",
       "      <th>25%</th>\n",
       "      <td>2.230000e+01</td>\n",
       "      <td>1.000000e+00</td>\n",
       "      <td>1.590000e+02</td>\n",
       "      <td>1.000000e+00</td>\n",
       "      <td>6.200000e+01</td>\n",
       "      <td>2.000000e+01</td>\n",
       "      <td>2.700000e+01</td>\n",
       "      <td>3.000000e+00</td>\n",
       "      <td>0.000000e+00</td>\n",
       "      <td>2.000000e+00</td>\n",
       "      <td>9.000000e+00</td>\n",
       "      <td>2.960000e+03</td>\n",
       "    </tr>\n",
       "    <tr>\n",
       "      <th>50%</th>\n",
       "      <td>2.570000e+01</td>\n",
       "      <td>1.000000e+00</td>\n",
       "      <td>1.810000e+02</td>\n",
       "      <td>1.000000e+00</td>\n",
       "      <td>6.400000e+01</td>\n",
       "      <td>2.900000e+01</td>\n",
       "      <td>3.100000e+01</td>\n",
       "      <td>4.000000e+00</td>\n",
       "      <td>0.000000e+00</td>\n",
       "      <td>3.000000e+00</td>\n",
       "      <td>1.200000e+01</td>\n",
       "      <td>3.300000e+03</td>\n",
       "    </tr>\n",
       "    <tr>\n",
       "      <th>75%</th>\n",
       "      <td>3.070000e+01</td>\n",
       "      <td>2.000000e+00</td>\n",
       "      <td>2.100000e+02</td>\n",
       "      <td>2.000000e+00</td>\n",
       "      <td>6.600000e+01</td>\n",
       "      <td>3.800000e+01</td>\n",
       "      <td>3.600000e+01</td>\n",
       "      <td>6.000000e+00</td>\n",
       "      <td>0.000000e+00</td>\n",
       "      <td>3.000000e+00</td>\n",
       "      <td>1.300000e+01</td>\n",
       "      <td>3.629000e+03</td>\n",
       "    </tr>\n",
       "    <tr>\n",
       "      <th>max</th>\n",
       "      <td>6.980000e+01</td>\n",
       "      <td>2.000000e+00</td>\n",
       "      <td>4.000000e+02</td>\n",
       "      <td>6.000000e+00</td>\n",
       "      <td>7.800000e+01</td>\n",
       "      <td>9.800000e+01</td>\n",
       "      <td>9.800000e+01</td>\n",
       "      <td>9.000000e+00</td>\n",
       "      <td>9.800000e+01</td>\n",
       "      <td>9.900000e+01</td>\n",
       "      <td>9.800000e+01</td>\n",
       "      <td>8.165000e+03</td>\n",
       "    </tr>\n",
       "  </tbody>\n",
       "</table>\n",
       "</div>"
      ],
      "text/plain": [
       "       mother_body_mass_index  mother_marital_status  mother_delivery_weight  \\\n",
       "count            2.251516e+06           1.985606e+06            2.363158e+06   \n",
       "mean             2.716721e+01           1.399560e+00            1.883170e+02   \n",
       "std              6.755758e+00           4.898080e-01            4.136924e+01   \n",
       "min              1.300000e+01           1.000000e+00            1.000000e+02   \n",
       "25%              2.230000e+01           1.000000e+00            1.590000e+02   \n",
       "50%              2.570000e+01           1.000000e+00            1.810000e+02   \n",
       "75%              3.070000e+01           2.000000e+00            2.100000e+02   \n",
       "max              6.980000e+01           2.000000e+00            4.000000e+02   \n",
       "\n",
       "        mother_race  mother_height  mother_weight_gain    father_age  \\\n",
       "count  2.398116e+06   2.153587e+06        2.324643e+06  1.953610e+06   \n",
       "mean   1.522342e+00   6.412125e+01        2.948373e+01  3.180109e+01   \n",
       "std    1.111554e+00   2.835525e+00        1.514630e+01  6.812647e+00   \n",
       "min    1.000000e+00   3.000000e+01        0.000000e+00  1.100000e+01   \n",
       "25%    1.000000e+00   6.200000e+01        2.000000e+01  2.700000e+01   \n",
       "50%    1.000000e+00   6.400000e+01        2.900000e+01  3.100000e+01   \n",
       "75%    2.000000e+00   6.600000e+01        3.800000e+01  3.600000e+01   \n",
       "max    6.000000e+00   7.800000e+01        9.800000e+01  9.800000e+01   \n",
       "\n",
       "       father_education  cigarettes_before_pregnancy  prenatal_care_month  \\\n",
       "count      2.398116e+06                 2.386815e+06         2.398116e+06   \n",
       "mean       4.904241e+00                 1.104388e+00         5.295876e+00   \n",
       "std        2.305806e+00                 4.730520e+00         1.505508e+01   \n",
       "min        1.000000e+00                 0.000000e+00         0.000000e+00   \n",
       "25%        3.000000e+00                 0.000000e+00         2.000000e+00   \n",
       "50%        4.000000e+00                 0.000000e+00         3.000000e+00   \n",
       "75%        6.000000e+00                 0.000000e+00         3.000000e+00   \n",
       "max        9.000000e+00                 9.800000e+01         9.900000e+01   \n",
       "\n",
       "       number_prenatal_visits  newborn_weight  \n",
       "count            2.338215e+06    2.398116e+06  \n",
       "mean             1.129318e+01    3.261835e+03  \n",
       "std              4.197046e+00    5.904724e+02  \n",
       "min              0.000000e+00    2.270000e+02  \n",
       "25%              9.000000e+00    2.960000e+03  \n",
       "50%              1.200000e+01    3.300000e+03  \n",
       "75%              1.300000e+01    3.629000e+03  \n",
       "max              9.800000e+01    8.165000e+03  "
      ]
     },
     "execution_count": 12,
     "metadata": {},
     "output_type": "execute_result"
    }
   ],
   "source": [
    "newborn_train.describe()"
   ]
  },
  {
   "cell_type": "code",
   "execution_count": 13,
   "id": "e4587560",
   "metadata": {},
   "outputs": [
    {
     "data": {
      "text/html": [
       "<div>\n",
       "<style scoped>\n",
       "    .dataframe tbody tr th:only-of-type {\n",
       "        vertical-align: middle;\n",
       "    }\n",
       "\n",
       "    .dataframe tbody tr th {\n",
       "        vertical-align: top;\n",
       "    }\n",
       "\n",
       "    .dataframe thead th {\n",
       "        text-align: right;\n",
       "    }\n",
       "</style>\n",
       "<table border=\"1\" class=\"dataframe\">\n",
       "  <thead>\n",
       "    <tr style=\"text-align: right;\">\n",
       "      <th></th>\n",
       "      <th>mother_body_mass_index</th>\n",
       "      <th>mother_marital_status</th>\n",
       "      <th>mother_delivery_weight</th>\n",
       "      <th>mother_race</th>\n",
       "      <th>mother_height</th>\n",
       "      <th>mother_weight_gain</th>\n",
       "      <th>father_age</th>\n",
       "      <th>father_education</th>\n",
       "      <th>cigarettes_before_pregnancy</th>\n",
       "      <th>prenatal_care_month</th>\n",
       "      <th>number_prenatal_visits</th>\n",
       "    </tr>\n",
       "  </thead>\n",
       "  <tbody>\n",
       "    <tr>\n",
       "      <th>count</th>\n",
       "      <td>562770.000000</td>\n",
       "      <td>496177.000000</td>\n",
       "      <td>590917.000000</td>\n",
       "      <td>599561.000000</td>\n",
       "      <td>538002.000000</td>\n",
       "      <td>581227.000000</td>\n",
       "      <td>489043.000000</td>\n",
       "      <td>599561.000000</td>\n",
       "      <td>596654.000000</td>\n",
       "      <td>599561.000000</td>\n",
       "      <td>584576.000000</td>\n",
       "    </tr>\n",
       "    <tr>\n",
       "      <th>mean</th>\n",
       "      <td>27.158572</td>\n",
       "      <td>1.399378</td>\n",
       "      <td>188.271608</td>\n",
       "      <td>1.523970</td>\n",
       "      <td>64.124713</td>\n",
       "      <td>29.448477</td>\n",
       "      <td>31.813618</td>\n",
       "      <td>4.901486</td>\n",
       "      <td>1.096128</td>\n",
       "      <td>5.293280</td>\n",
       "      <td>11.286678</td>\n",
       "    </tr>\n",
       "    <tr>\n",
       "      <th>std</th>\n",
       "      <td>6.751144</td>\n",
       "      <td>0.489771</td>\n",
       "      <td>41.351395</td>\n",
       "      <td>1.113346</td>\n",
       "      <td>2.833293</td>\n",
       "      <td>15.124270</td>\n",
       "      <td>6.809547</td>\n",
       "      <td>2.302981</td>\n",
       "      <td>4.709688</td>\n",
       "      <td>15.043465</td>\n",
       "      <td>4.206462</td>\n",
       "    </tr>\n",
       "    <tr>\n",
       "      <th>min</th>\n",
       "      <td>13.000000</td>\n",
       "      <td>1.000000</td>\n",
       "      <td>100.000000</td>\n",
       "      <td>1.000000</td>\n",
       "      <td>30.000000</td>\n",
       "      <td>0.000000</td>\n",
       "      <td>13.000000</td>\n",
       "      <td>1.000000</td>\n",
       "      <td>0.000000</td>\n",
       "      <td>0.000000</td>\n",
       "      <td>0.000000</td>\n",
       "    </tr>\n",
       "    <tr>\n",
       "      <th>25%</th>\n",
       "      <td>22.300000</td>\n",
       "      <td>1.000000</td>\n",
       "      <td>159.000000</td>\n",
       "      <td>1.000000</td>\n",
       "      <td>62.000000</td>\n",
       "      <td>20.000000</td>\n",
       "      <td>27.000000</td>\n",
       "      <td>3.000000</td>\n",
       "      <td>0.000000</td>\n",
       "      <td>2.000000</td>\n",
       "      <td>9.000000</td>\n",
       "    </tr>\n",
       "    <tr>\n",
       "      <th>50%</th>\n",
       "      <td>25.700000</td>\n",
       "      <td>1.000000</td>\n",
       "      <td>181.000000</td>\n",
       "      <td>1.000000</td>\n",
       "      <td>64.000000</td>\n",
       "      <td>29.000000</td>\n",
       "      <td>31.000000</td>\n",
       "      <td>4.000000</td>\n",
       "      <td>0.000000</td>\n",
       "      <td>3.000000</td>\n",
       "      <td>12.000000</td>\n",
       "    </tr>\n",
       "    <tr>\n",
       "      <th>75%</th>\n",
       "      <td>30.700000</td>\n",
       "      <td>2.000000</td>\n",
       "      <td>210.000000</td>\n",
       "      <td>2.000000</td>\n",
       "      <td>66.000000</td>\n",
       "      <td>38.000000</td>\n",
       "      <td>36.000000</td>\n",
       "      <td>6.000000</td>\n",
       "      <td>0.000000</td>\n",
       "      <td>3.000000</td>\n",
       "      <td>13.000000</td>\n",
       "    </tr>\n",
       "    <tr>\n",
       "      <th>max</th>\n",
       "      <td>69.700000</td>\n",
       "      <td>2.000000</td>\n",
       "      <td>400.000000</td>\n",
       "      <td>6.000000</td>\n",
       "      <td>78.000000</td>\n",
       "      <td>98.000000</td>\n",
       "      <td>95.000000</td>\n",
       "      <td>9.000000</td>\n",
       "      <td>98.000000</td>\n",
       "      <td>99.000000</td>\n",
       "      <td>82.000000</td>\n",
       "    </tr>\n",
       "  </tbody>\n",
       "</table>\n",
       "</div>"
      ],
      "text/plain": [
       "       mother_body_mass_index  mother_marital_status  mother_delivery_weight  \\\n",
       "count           562770.000000          496177.000000           590917.000000   \n",
       "mean                27.158572               1.399378              188.271608   \n",
       "std                  6.751144               0.489771               41.351395   \n",
       "min                 13.000000               1.000000              100.000000   \n",
       "25%                 22.300000               1.000000              159.000000   \n",
       "50%                 25.700000               1.000000              181.000000   \n",
       "75%                 30.700000               2.000000              210.000000   \n",
       "max                 69.700000               2.000000              400.000000   \n",
       "\n",
       "         mother_race  mother_height  mother_weight_gain     father_age  \\\n",
       "count  599561.000000  538002.000000       581227.000000  489043.000000   \n",
       "mean        1.523970      64.124713           29.448477      31.813618   \n",
       "std         1.113346       2.833293           15.124270       6.809547   \n",
       "min         1.000000      30.000000            0.000000      13.000000   \n",
       "25%         1.000000      62.000000           20.000000      27.000000   \n",
       "50%         1.000000      64.000000           29.000000      31.000000   \n",
       "75%         2.000000      66.000000           38.000000      36.000000   \n",
       "max         6.000000      78.000000           98.000000      95.000000   \n",
       "\n",
       "       father_education  cigarettes_before_pregnancy  prenatal_care_month  \\\n",
       "count     599561.000000                596654.000000        599561.000000   \n",
       "mean           4.901486                     1.096128             5.293280   \n",
       "std            2.302981                     4.709688            15.043465   \n",
       "min            1.000000                     0.000000             0.000000   \n",
       "25%            3.000000                     0.000000             2.000000   \n",
       "50%            4.000000                     0.000000             3.000000   \n",
       "75%            6.000000                     0.000000             3.000000   \n",
       "max            9.000000                    98.000000            99.000000   \n",
       "\n",
       "       number_prenatal_visits  \n",
       "count           584576.000000  \n",
       "mean                11.286678  \n",
       "std                  4.206462  \n",
       "min                  0.000000  \n",
       "25%                  9.000000  \n",
       "50%                 12.000000  \n",
       "75%                 13.000000  \n",
       "max                 82.000000  "
      ]
     },
     "execution_count": 13,
     "metadata": {},
     "output_type": "execute_result"
    }
   ],
   "source": [
    "newborn_test.describe()"
   ]
  },
  {
   "cell_type": "code",
   "execution_count": 14,
   "id": "0287b024",
   "metadata": {},
   "outputs": [
    {
     "data": {
      "text/plain": [
       "{0.0: 227.0,\n",
       " 0.1: 2580.0,\n",
       " 0.2: 2865.0,\n",
       " 0.30000000000000004: 3040.0,\n",
       " 0.4: 3175.0,\n",
       " 0.5: 3300.0,\n",
       " 0.6000000000000001: 3430.0,\n",
       " 0.7000000000000001: 3555.0,\n",
       " 0.8: 3714.0,\n",
       " 0.9: 3930.0,\n",
       " 1.0: 8165.0}"
      ]
     },
     "execution_count": 14,
     "metadata": {},
     "output_type": "execute_result"
    }
   ],
   "source": [
    "{i: newborn_train.newborn_weight.quantile(i) for i in np.arange(0, 1.1, 0.1)}"
   ]
  },
  {
   "cell_type": "code",
   "execution_count": 15,
   "id": "cd17b343",
   "metadata": {},
   "outputs": [
    {
     "data": {
      "image/png": "[encoded data removed]",
      "text/plain": [
       "<Figure size 720x360 with 1 Axes>"
      ]
     },
     "metadata": {
      "needs_background": "light"
     },
     "output_type": "display_data"
    }
   ],
   "source": [
    "plt.figure(figsize=(10, 5))\n",
    "sns.histplot(newborn_train.newborn_weight).set(title=\"Histogram - Newborn_Weight\")\n",
    "plt.show()"
   ]
  },
  {
   "cell_type": "code",
   "execution_count": 16,
   "id": "4a08724a",
   "metadata": {},
   "outputs": [
    {
     "data": {
      "image/png": "[encoded data removed]",
      "text/plain": [
       "<Figure size 1440x1440 with 12 Axes>"
      ]
     },
     "metadata": {
      "needs_background": "light"
     },
     "output_type": "display_data"
    }
   ],
   "source": [
    "p = newborn_train.hist(figsize = (20,20))"
   ]
  },
  {
   "cell_type": "markdown",
   "id": "7ab79968",
   "metadata": {},
   "source": [
    "# Data Preparation"
   ]
  },
  {
   "cell_type": "code",
   "execution_count": 17,
   "id": "7fb0a8e0",
   "metadata": {},
   "outputs": [
    {
     "name": "stdout",
     "output_type": "stream",
     "text": [
      "\n",
      "Size of Original Dataset\n",
      "------------------------\n",
      "Observations: 2398116\n",
      "Features:     14\n",
      "\n"
     ]
    }
   ],
   "source": [
    "#Displaying the dimensions of the dataframe\n",
    "print(f\"\"\"\n",
    "Size of Original Dataset\n",
    "------------------------\n",
    "Observations: {newborn_train.shape[0]}\n",
    "Features:     {newborn_train.shape[1]}\n",
    "\"\"\")"
   ]
  },
  {
   "cell_type": "code",
   "execution_count": 18,
   "id": "a046e478",
   "metadata": {},
   "outputs": [
    {
     "data": {
      "text/plain": [
       "True"
      ]
     },
     "execution_count": 18,
     "metadata": {},
     "output_type": "execute_result"
    }
   ],
   "source": [
    "#Checking is there are missing values in dataframe\n",
    "newborn_train.isnull().any().any()"
   ]
  },
  {
   "cell_type": "code",
   "execution_count": 19,
   "id": "f2399a0e",
   "metadata": {},
   "outputs": [
    {
     "data": {
      "text/plain": [
       "mother_body_mass_index         146600\n",
       "mother_marital_status          412510\n",
       "mother_delivery_weight          34958\n",
       "mother_race                         0\n",
       "mother_height                  244529\n",
       "mother_weight_gain              73473\n",
       "father_age                     444506\n",
       "father_education                    0\n",
       "cigarettes_before_pregnancy     11301\n",
       "prenatal_care_month                 0\n",
       "number_prenatal_visits          59901\n",
       "previous_cesarean                   0\n",
       "newborn_gender                      0\n",
       "newborn_weight                      0\n",
       "dtype: int64"
      ]
     },
     "execution_count": 19,
     "metadata": {},
     "output_type": "execute_result"
    }
   ],
   "source": [
    "#Checking how many missing values per feature\n",
    "newborn_train.isnull().sum(axis = 0)"
   ]
  },
  {
   "cell_type": "code",
   "execution_count": 20,
   "id": "ed43955b",
   "metadata": {},
   "outputs": [
    {
     "data": {
      "text/plain": [
       "mother_body_mass_index         0.06\n",
       "mother_marital_status          0.17\n",
       "mother_delivery_weight         0.01\n",
       "mother_race                    0.00\n",
       "mother_height                  0.10\n",
       "mother_weight_gain             0.03\n",
       "father_age                     0.19\n",
       "father_education               0.00\n",
       "cigarettes_before_pregnancy    0.00\n",
       "prenatal_care_month            0.00\n",
       "number_prenatal_visits         0.02\n",
       "previous_cesarean              0.00\n",
       "newborn_gender                 0.00\n",
       "newborn_weight                 0.00\n",
       "dtype: float64"
      ]
     },
     "execution_count": 20,
     "metadata": {},
     "output_type": "execute_result"
    }
   ],
   "source": [
    "#Checking frequency of missing values per feature\n",
    "newborn_train.isnull().mean().round(decimals = 2)"
   ]
  },
  {
   "cell_type": "code",
   "execution_count": 21,
   "id": "0d552945",
   "metadata": {},
   "outputs": [
    {
     "name": "stdout",
     "output_type": "stream",
     "text": [
      "<class 'pandas.core.frame.DataFrame'>\n",
      "RangeIndex: 2398116 entries, 0 to 2398115\n",
      "Data columns (total 14 columns):\n",
      " #   Column                       Dtype  \n",
      "---  ------                       -----  \n",
      " 0   mother_body_mass_index       float64\n",
      " 1   mother_marital_status        float64\n",
      " 2   mother_delivery_weight       float64\n",
      " 3   mother_race                  int64  \n",
      " 4   mother_height                float64\n",
      " 5   mother_weight_gain           float64\n",
      " 6   father_age                   float64\n",
      " 7   father_education             int64  \n",
      " 8   cigarettes_before_pregnancy  float64\n",
      " 9   prenatal_care_month          int64  \n",
      " 10  number_prenatal_visits       float64\n",
      " 11  previous_cesarean            object \n",
      " 12  newborn_gender               object \n",
      " 13  newborn_weight               int64  \n",
      "dtypes: float64(8), int64(4), object(2)\n",
      "memory usage: 256.1+ MB\n"
     ]
    }
   ],
   "source": [
    "#Checking the types of the features\n",
    "newborn_train.info()"
   ]
  },
  {
   "cell_type": "code",
   "execution_count": 22,
   "id": "7d00ae96",
   "metadata": {},
   "outputs": [],
   "source": [
    "#Flagging missing values: Creation of new columns with for loop\n",
    "for col in newborn_train:\n",
    "    if newborn_train[col].isnull().astype(int).sum() > 0:\n",
    "        newborn_train['n_'+col] = newborn_train[col].isnull().astype(int)"
   ]
  },
  {
   "cell_type": "code",
   "execution_count": 23,
   "id": "23eb7bb9",
   "metadata": {},
   "outputs": [],
   "source": [
    "#Sum of the missing values into a single new column\n",
    "newborn_train['nt_sum'] = newborn_train.iloc[ : , -3: ].sum(axis = 1)"
   ]
  },
  {
   "cell_type": "code",
   "execution_count": 24,
   "id": "daeb0728",
   "metadata": {},
   "outputs": [
    {
     "name": "stdout",
     "output_type": "stream",
     "text": [
      "\n",
      "\n",
      "Number of Missing Values per Observation \n",
      "----------------------------------------------\n",
      "0    79.29\n",
      "1    19.94\n",
      "2     0.74\n",
      "3     0.03\n",
      "Name: nt_sum, dtype: float64\n",
      "\n"
     ]
    }
   ],
   "source": [
    "#Checking Number of missing values per feature's unique values\n",
    "print(f\"\"\"\n",
    "\n",
    "Number of Missing Values per Observation \n",
    "----------------------------------------------\n",
    "{(newborn_train['nt_sum'].value_counts(normalize = True,\n",
    "                                  sort      = True,\n",
    "                                  ascending = True)*100).sort_index().round(2)}\n",
    "\"\"\")"
   ]
  },
  {
   "cell_type": "code",
   "execution_count": 25,
   "id": "c840dc4f",
   "metadata": {},
   "outputs": [],
   "source": [
    "#Imputing new values to missing ones using the mean or the median \n",
    "for col in newborn_train:\n",
    "    if newborn_train[col].isnull().sum(axis = 0) > 0:\n",
    "        mean = newborn_train[col].mean()\n",
    "        median = newborn_train[col].median()\n",
    "        if median > mean: #data skewed if mean is higher than median\n",
    "            newborn_train[col].fillna(value = mean,\n",
    "                               inplace = True)\n",
    "        elif mean > median: #data skewed if mean is higher than median\n",
    "            newborn_train[col].fillna(value = median,\n",
    "                               inplace = True)\n",
    "        else:\n",
    "            continue\n",
    "    elif newborn_train[col].isnull().sum(axis = 0) < 0:\n",
    "        continue\n",
    "    else:\n",
    "        continue"
   ]
  },
  {
   "cell_type": "code",
   "execution_count": 26,
   "id": "9b800c26",
   "metadata": {},
   "outputs": [
    {
     "name": "stdout",
     "output_type": "stream",
     "text": [
      "\n",
      "Missing values remaining in the dataframe?\n",
      "-----------------------------------------\n",
      "False\n",
      "\n"
     ]
    }
   ],
   "source": [
    "#Checking if there are any missing values remaining in the dataframe\n",
    "print(f\"\"\"\n",
    "Missing values remaining in the dataframe?\n",
    "-----------------------------------------\n",
    "{newborn_train.isnull().any().any()}\n",
    "\"\"\")"
   ]
  },
  {
   "cell_type": "code",
   "execution_count": 27,
   "id": "599b363e",
   "metadata": {},
   "outputs": [
    {
     "name": "stdout",
     "output_type": "stream",
     "text": [
      "mother_body_mass_index          36791\n",
      "mother_marital_status          103384\n",
      "mother_delivery_weight           8644\n",
      "mother_race                         0\n",
      "mother_height                   61559\n",
      "mother_weight_gain              18334\n",
      "father_age                     110518\n",
      "father_education                    0\n",
      "cigarettes_before_pregnancy      2907\n",
      "prenatal_care_month                 0\n",
      "number_prenatal_visits          14985\n",
      "previous_cesarean                   0\n",
      "newborn_gender                      0\n",
      "dtype: int64\n"
     ]
    }
   ],
   "source": [
    "print(newborn_test.isnull().sum())"
   ]
  },
  {
   "cell_type": "code",
   "execution_count": 28,
   "id": "f82e60b3",
   "metadata": {},
   "outputs": [],
   "source": [
    "for col in newborn_test:\n",
    "    if newborn_test[col].isnull().astype(int).sum() > 0:\n",
    "        newborn_test['n_'+col] = newborn_test[col].isnull().astype(int)"
   ]
  },
  {
   "cell_type": "code",
   "execution_count": 29,
   "id": "beaee945",
   "metadata": {},
   "outputs": [],
   "source": [
    "newborn_test['nt_sum'] = newborn_test.iloc[ : , -3: ].sum(axis = 1)"
   ]
  },
  {
   "cell_type": "code",
   "execution_count": 30,
   "id": "e9aadaae",
   "metadata": {},
   "outputs": [],
   "source": [
    "for col in newborn_test:\n",
    "    if newborn_test[col].isnull().sum(axis = 0) > 0:\n",
    "        mean = newborn_test[col].mean()\n",
    "        median = newborn_test[col].median()\n",
    "        if median > mean: #data skewed if mean is higher than median\n",
    "            newborn_test[col].fillna(value = mean,\n",
    "                               inplace = True)\n",
    "        elif mean > median: #data skewed if mean is higher than median\n",
    "            newborn_test[col].fillna(value = median,\n",
    "                               inplace = True)\n",
    "        else:\n",
    "            continue\n",
    "    elif newborn_test[col].isnull().sum(axis = 0) < 0:\n",
    "        continue\n",
    "    else:\n",
    "        continue"
   ]
  },
  {
   "cell_type": "code",
   "execution_count": 31,
   "id": "4e9ea8fc",
   "metadata": {},
   "outputs": [
    {
     "name": "stdout",
     "output_type": "stream",
     "text": [
      "\n",
      "Missing values remaining in the dataframe?\n",
      "-----------------------------------------\n",
      "False\n",
      "\n"
     ]
    }
   ],
   "source": [
    "#Checking if there are any missing values remaining in the dataframe\n",
    "print(f\"\"\"\n",
    "Missing values remaining in the dataframe?\n",
    "-----------------------------------------\n",
    "{newborn_test.isnull().any().any()}\n",
    "\"\"\")"
   ]
  },
  {
   "cell_type": "markdown",
   "id": "2de36a89",
   "metadata": {},
   "source": [
    "# Comparing weight of babies between young and old mothers"
   ]
  },
  {
   "cell_type": "code",
   "execution_count": 32,
   "id": "12452923",
   "metadata": {},
   "outputs": [
    {
     "name": "stdout",
     "output_type": "stream",
     "text": [
      "Young     2107642\n",
      "Mature     290474\n",
      "Name: age_group, dtype: int64\n"
     ]
    }
   ],
   "source": [
    "newborn_train['age_group'] = ''  \n",
    "newborn_train.loc[newborn_train['mother_body_mass_index'] < 35, 'age_group'] = 'Young'  \n",
    "newborn_train.loc[newborn_train['mother_body_mass_index'] >= 35, 'age_group'] = 'Mature'\n",
    "\n",
    "\n",
    "print(newborn_train['age_group'].value_counts())  "
   ]
  },
  {
   "cell_type": "code",
   "execution_count": 33,
   "id": "5e29f997",
   "metadata": {},
   "outputs": [],
   "source": [
    "mature = newborn_train[newborn_train['age_group'] == 'Mature']\n",
    "young = newborn_train[newborn_train['age_group'] == 'Young']"
   ]
  },
  {
   "cell_type": "code",
   "execution_count": 34,
   "id": "6a2cac6c",
   "metadata": {},
   "outputs": [
    {
     "data": {
      "image/png": "[encoded data removed]",
      "text/plain": [
       "<Figure size 432x288 with 1 Axes>"
      ]
     },
     "metadata": {
      "needs_background": "light"
     },
     "output_type": "display_data"
    }
   ],
   "source": [
    "plt.boxplot([mature['newborn_weight'], young['newborn_weight']], vert=False, labels=['Mature', 'Young'])\n",
    "plt.xlabel('Weight of baby at birth')\n",
    "plt.ylabel('Mature   Young')\n",
    "plt.title('Weight of the Babies of Mature vs. Young mothers')\n",
    "plt.grid(True)\n",
    "plt.show()"
   ]
  },
  {
   "cell_type": "code",
   "execution_count": 35,
   "id": "1e00cb3b",
   "metadata": {},
   "outputs": [
    {
     "name": "stdout",
     "output_type": "stream",
     "text": [
      "count    290474.00000\n",
      "mean       3306.83423\n",
      "std         656.96201\n",
      "min         227.00000\n",
      "25%        2985.00000\n",
      "50%        3359.00000\n",
      "75%        3714.00000\n",
      "max        8165.00000\n",
      "Name: newborn_weight, dtype: float64\n"
     ]
    }
   ],
   "source": [
    "mature_weight_summary = mature['newborn_weight'].describe()\n",
    "print(mature_weight_summary)"
   ]
  },
  {
   "cell_type": "code",
   "execution_count": 36,
   "id": "e8bf33aa",
   "metadata": {},
   "outputs": [
    {
     "name": "stdout",
     "output_type": "stream",
     "text": [
      "count    2.107642e+06\n",
      "mean     3.255634e+03\n",
      "std      5.804389e+02\n",
      "min      2.270000e+02\n",
      "25%      2.958000e+03\n",
      "50%      3.290000e+03\n",
      "75%      3.620000e+03\n",
      "max      8.165000e+03\n",
      "Name: newborn_weight, dtype: float64\n"
     ]
    }
   ],
   "source": [
    "young_weight_summary = young['newborn_weight'].describe()\n",
    "print(young_weight_summary)"
   ]
  },
  {
   "cell_type": "markdown",
   "id": "38f90789",
   "metadata": {},
   "source": [
    "# Comparative Boxplots Analysis\n",
    "After creating a comparative box blot, it is apparent that the quarterfinals of both the Younger and Mature mothers are similar. However, the Younger mothers have significantly more outlines, especially on the lower end of the axis. This might be due to the fact that the some younger mothers might not be as prepared for pregnancy, meaning that they might now give their body the necessary nutrients, sleep, or healthy practices during their pregnancy resulting in lower birth weights."
   ]
  },
  {
   "cell_type": "markdown",
   "id": "19c6db92",
   "metadata": {},
   "source": [
    "# Examining data to see if distributions are approximately Normally distributed"
   ]
  },
  {
   "cell_type": "code",
   "execution_count": 37,
   "id": "13a086e1",
   "metadata": {},
   "outputs": [
    {
     "name": "stdout",
     "output_type": "stream",
     "text": [
      "0.0     2197925\n",
      "20.0      60078\n",
      "10.0      53333\n",
      "5.0       21147\n",
      "3.0        9887\n",
      "         ...   \n",
      "92.0          1\n",
      "69.0          1\n",
      "29.0          1\n",
      "73.0          1\n",
      "72.0          1\n",
      "Name: cigarettes_before_pregnancy, Length: 67, dtype: int64\n"
     ]
    }
   ],
   "source": [
    "newborn_train['smoke_group'] = ''  \n",
    "newborn_train.loc[newborn_train['cigarettes_before_pregnancy'] < 1, 'smoke_group'] = 'Nonsmoker'  \n",
    "newborn_train.loc[newborn_train['cigarettes_before_pregnancy'] >= 1, 'smoke_group'] = 'Smoker'\n",
    "\n",
    "\n",
    "print(newborn_train['cigarettes_before_pregnancy'].value_counts()) "
   ]
  },
  {
   "cell_type": "code",
   "execution_count": 38,
   "id": "8d0ab31f",
   "metadata": {},
   "outputs": [],
   "source": [
    "nonsmoker = newborn_train[newborn_train['smoke_group'] == 'Nonsmoker']\n",
    "smoker = newborn_train[newborn_train['smoke_group'] == 'Smoker']"
   ]
  },
  {
   "cell_type": "code",
   "execution_count": 39,
   "id": "e1ad9d80",
   "metadata": {},
   "outputs": [
    {
     "data": {
      "image/png": "[encoded data removed]",
      "text/plain": [
       "<Figure size 432x288 with 1 Axes>"
      ]
     },
     "metadata": {
      "needs_background": "light"
     },
     "output_type": "display_data"
    }
   ],
   "source": [
    "# Comparing newborn weights between nonsmokers and smokers\n",
    "plt.boxplot([nonsmoker['newborn_weight'], smoker['newborn_weight']], vert=False, labels=['Nonsmoker', 'Smoker'])\n",
    "plt.xlabel('Weight of baby at birth')\n",
    "plt.title('Newborn Weights and Smoking Habits')\n",
    "plt.grid(True)\n",
    "plt.show()"
   ]
  },
  {
   "cell_type": "code",
   "execution_count": 40,
   "id": "35c325c3",
   "metadata": {},
   "outputs": [
    {
     "name": "stdout",
     "output_type": "stream",
     "text": [
      "count    2.197925e+06\n",
      "mean     3.274957e+03\n",
      "std      5.867560e+02\n",
      "min      2.270000e+02\n",
      "25%      2.977000e+03\n",
      "50%      3.317000e+03\n",
      "75%      3.636000e+03\n",
      "max      8.165000e+03\n",
      "Name: newborn_weight, dtype: float64\n"
     ]
    }
   ],
   "source": [
    "summary = pd.Series.describe(nonsmoker['newborn_weight'])\n",
    "print(summary)"
   ]
  },
  {
   "cell_type": "code",
   "execution_count": 41,
   "id": "9694db2a",
   "metadata": {},
   "outputs": [
    {
     "name": "stdout",
     "output_type": "stream",
     "text": [
      "count    200191.000000\n",
      "mean       3117.769570\n",
      "std         611.594855\n",
      "min         227.000000\n",
      "25%        2805.000000\n",
      "50%        3160.000000\n",
      "75%        3505.000000\n",
      "max        7815.000000\n",
      "Name: newborn_weight, dtype: float64\n"
     ]
    }
   ],
   "source": [
    "summary = pd.Series.describe(smoker['newborn_weight'])\n",
    "print(summary)"
   ]
  },
  {
   "cell_type": "markdown",
   "id": "3973be05",
   "metadata": {},
   "source": [
    "# Boxplot Analysis\n",
    "After viewing the data between age of mothers and corresponding birth weights, I was compelled to look at the data further. I wanted to search for a possible corresponding variable that might explain why the younger moms had so many low birth weight outlines. In the box plot above I compared birth weight to smoking habits. However, after comparing the two, the data illustrates that non smokers have consistently less underweight babies. This leads me to believe that the smoking habits of pregnant women doesn’t play a significant role in determining birth weight in young mothers. It’s likely that the reason nonsmokers are having underweight babies is due to other variables like eating, sleeping, and various lifestyle habits."
   ]
  },
  {
   "cell_type": "code",
   "execution_count": 42,
   "id": "e31ef7a1",
   "metadata": {},
   "outputs": [],
   "source": [
    "np.random.seed(52319)  # This function allows you to repeatedly run code chunks but the sample remains consistent\n",
    "\n",
    "maturemommean = np.zeros(50)\n",
    "for i in range(50):\n",
    "    sam = random.sample(list(mature['newborn_weight']), 10)\n",
    "    maturemommean[i] = np.mean(sam)    #running a loop, 50 samples of 10 with mean calculated for each. Vector is called maturemommean"
   ]
  },
  {
   "cell_type": "code",
   "execution_count": 43,
   "id": "79092143",
   "metadata": {},
   "outputs": [],
   "source": [
    "random.seed(52319)  # This function allows you to repeatedly run code chunks but the sample remains consistent\n",
    "\n",
    "youngmommean = np.zeros(50)\n",
    "for i in range(50):\n",
    "    sam2 = random.sample(list(young['newborn_weight']), 10)\n",
    "    youngmommean[i] = np.mean(sam2)    #running a loop, 50 samples of 10 with mean calculated for each. Vector is called maturemommean\n",
    "    # Here, we select 10 random values from the 'weight' column in the DataFrame 'young',\n",
    " "
   ]
  },
  {
   "cell_type": "code",
   "execution_count": 44,
   "id": "ba562ffa",
   "metadata": {},
   "outputs": [
    {
     "data": {
      "image/png": "[encoded data removed]",
      "text/plain": [
       "<Figure size 432x288 with 2 Axes>"
      ]
     },
     "metadata": {
      "needs_background": "light"
     },
     "output_type": "display_data"
    }
   ],
   "source": [
    "plt.subplot(1, 2, 1)\n",
    "plt.hist(maturemommean, bins='auto', color='lightgreen')\n",
    "plt.title(\"Young Mothers Sample\")\n",
    "plt.xlabel(\"Weight of Baby at Birth\")\n",
    "\n",
    "# Histogram for mature mothers sample\n",
    "plt.subplot(1, 2, 2)\n",
    "plt.hist(youngmommean, bins='auto', color='lightgreen')\n",
    "plt.title(\"Mature Mothers Sample\")\n",
    "plt.xlabel(\"Weight of Baby at Birth\")\n",
    "\n",
    "# Adjust spacing between subplots\n",
    "plt.tight_layout()\n",
    "\n",
    "# Display the plots\n",
    "plt.show()"
   ]
  },
  {
   "cell_type": "code",
   "execution_count": 45,
   "id": "b651d7c3",
   "metadata": {},
   "outputs": [
    {
     "name": "stdout",
     "output_type": "stream",
     "text": [
      "Summary statistics for maturemommean:\n",
      "Mean: 3267.436\n",
      "Median: 3305.05\n",
      "Minimum: 2683.1\n",
      "Maximum: 3814.9\n",
      "Standard Deviation: 200.71334560511914\n"
     ]
    }
   ],
   "source": [
    "mean = np.mean(youngmommean)\n",
    "median = np.median(youngmommean)\n",
    "minimum = np.min(youngmommean)\n",
    "maximum = np.max(youngmommean)\n",
    "std_dev = np.std(youngmommean)\n",
    "\n",
    "# Print the summary statistics\n",
    "print(\"Summary statistics for maturemommean:\")\n",
    "print(\"Mean:\", mean)\n",
    "print(\"Median:\", median)\n",
    "print(\"Minimum:\", minimum)\n",
    "print(\"Maximum:\", maximum)\n",
    "print(\"Standard Deviation:\", std_dev)"
   ]
  },
  {
   "cell_type": "code",
   "execution_count": 46,
   "id": "56b273f0",
   "metadata": {},
   "outputs": [
    {
     "name": "stdout",
     "output_type": "stream",
     "text": [
      "Summary statistics for maturemommean:\n",
      "Mean: 3328.6020000000003\n",
      "Median: 3281.3\n",
      "Minimum: 2911.7\n",
      "Maximum: 3824.9\n",
      "Standard Deviation: 224.31222480284043\n"
     ]
    }
   ],
   "source": [
    "mean = np.mean(maturemommean)\n",
    "median = np.median(maturemommean)\n",
    "minimum = np.min(maturemommean)\n",
    "maximum = np.max(maturemommean)\n",
    "std_dev = np.std(maturemommean)\n",
    "\n",
    "# Print the summary statistics\n",
    "print(\"Summary statistics for maturemommean:\")\n",
    "print(\"Mean:\", mean)\n",
    "print(\"Median:\", median)\n",
    "print(\"Minimum:\", minimum)\n",
    "print(\"Maximum:\", maximum)\n",
    "print(\"Standard Deviation:\", std_dev)"
   ]
  },
  {
   "cell_type": "markdown",
   "id": "5cd0b253",
   "metadata": {},
   "source": [
    "# How do the distributions compare\n",
    "Both sampling distributions are unimodal and are symmetric. Although, when examining the data you can see that in both data sets the means are less than the media but only by about -.20 pounds. This making it more symmetric on a bigger scale than skewed. Therefore both of these histograms are normally distributed. The sampling distributions (n=50) for both groups, patient and control, are approximately normal. I can verify this with histograms below. I can now proceed with inference testing. ##HYPOTHESES## Null Hypothesis: There is no statistically significant difference between the weight of babies at birth based on the ages of their mothers. Alternative Hypothesis: The young mothers will have more underweight babies on average than the mature mothers."
   ]
  },
  {
   "cell_type": "code",
   "execution_count": 47,
   "id": "1ae3bea9",
   "metadata": {},
   "outputs": [
    {
     "name": "stdout",
     "output_type": "stream",
     "text": [
      "T-Statistic: -1.4224586689845775\n",
      "P-Value: 0.1580683687124001\n"
     ]
    }
   ],
   "source": [
    "t_statistic, p_value = stats.ttest_ind(youngmommean, maturemommean)\n",
    "\n",
    "# Print the results\n",
    "print(\"T-Statistic:\", t_statistic)\n",
    "print(\"P-Value:\", p_value)"
   ]
  },
  {
   "cell_type": "markdown",
   "id": "4084de67",
   "metadata": {},
   "source": [
    "# Massaging Data to Optimize Prediction"
   ]
  },
  {
   "cell_type": "code",
   "execution_count": 48,
   "id": "650aefcc",
   "metadata": {},
   "outputs": [],
   "source": [
    "newborn_train['prenatal_care_month*number_prenatal_visits'] = newborn_train['prenatal_care_month'] * newborn_train['number_prenatal_visits']\n",
    "newborn_train['mother_height*mother_weight_gain'] = newborn_train['mother_height'] * newborn_train['mother_weight_gain']\n",
    "newborn_train['father_age*number_prenatal_visits'] = newborn_train['number_prenatal_visits'] * newborn_train['father_age']\n",
    "newborn_train['father_education*prenatal_care_month'] = newborn_train['father_education'] * newborn_train['prenatal_care_month']"
   ]
  },
  {
   "cell_type": "code",
   "execution_count": 49,
   "id": "a5042c74",
   "metadata": {},
   "outputs": [
    {
     "name": "stdout",
     "output_type": "stream",
     "text": [
      "\n",
      "prenatal_care_month*number_prenatal_visits\n",
      "-------------\n",
      "0          20.000000\n",
      "1          30.000000\n",
      "2          33.879536\n",
      "3          27.000000\n",
      "4          24.000000\n",
      "             ...    \n",
      "2398111    20.000000\n",
      "2398112    13.000000\n",
      "2398113    45.000000\n",
      "2398114    30.000000\n",
      "2398115    45.000000\n",
      "Name: prenatal_care_month*number_prenatal_visits, Length: 2398116, dtype: float64\n",
      "\n",
      "prenatal_care_month*number_prenatal_visits\n",
      "-------------\n",
      "0          2275.0\n",
      "1          1664.0\n",
      "2          1914.0\n",
      "3          1280.0\n",
      "4          2730.0\n",
      "            ...  \n",
      "2398111    1701.0\n",
      "2398112    1136.0\n",
      "2398113    1152.0\n",
      "2398114    2867.0\n",
      "2398115    2646.0\n",
      "Name: mother_height*mother_weight_gain, Length: 2398116, dtype: float64\n",
      "\n",
      "mother_height*mother_weight_gain\n",
      "-------------\n",
      "0          290.000000\n",
      "1          370.000000\n",
      "2          372.674899\n",
      "3          243.000000\n",
      "4          348.000000\n",
      "              ...    \n",
      "2398111    155.000000\n",
      "2398112    429.000000\n",
      "2398113    390.000000\n",
      "2398114    465.000000\n",
      "2398115    387.000000\n",
      "Name: father_age*number_prenatal_visits, Length: 2398116, dtype: float64\n",
      "\n",
      "father_age*number_prenatal_visits\n",
      "-------------\n",
      "0          12\n",
      "1          12\n",
      "2          18\n",
      "3          18\n",
      "4          16\n",
      "           ..\n",
      "2398111    16\n",
      "2398112     3\n",
      "2398113    12\n",
      "2398114     2\n",
      "2398115    30\n",
      "Name: father_education*prenatal_care_month, Length: 2398116, dtype: int64\n",
      "\n",
      "father_education*prenatal_care_month\n",
      "-------------\n",
      "\n"
     ]
    }
   ],
   "source": [
    "print(f\"\"\"\n",
    "prenatal_care_month*number_prenatal_visits\n",
    "-------------\n",
    "{newborn_train['prenatal_care_month*number_prenatal_visits']}\\n\n",
    "prenatal_care_month*number_prenatal_visits\n",
    "-------------\n",
    "{newborn_train['mother_height*mother_weight_gain']}\\n\n",
    "mother_height*mother_weight_gain\n",
    "-------------\n",
    "{newborn_train['father_age*number_prenatal_visits']}\\n\n",
    "father_age*number_prenatal_visits\n",
    "-------------\n",
    "{newborn_train['father_education*prenatal_care_month']}\\n\n",
    "father_education*prenatal_care_month\n",
    "-------------\n",
    "\"\"\")"
   ]
  },
  {
   "cell_type": "markdown",
   "id": "1b21ecb0",
   "metadata": {},
   "source": [
    "# Descriptive Analysis"
   ]
  },
  {
   "cell_type": "code",
   "execution_count": 50,
   "id": "ed5e10a1",
   "metadata": {},
   "outputs": [
    {
     "name": "stdout",
     "output_type": "stream",
     "text": [
      "Descriptive Statistics\n",
      "****************************************************************************************************\n",
      "       mother_body_mass_index  mother_marital_status  mother_delivery_weight  \\\n",
      "count            2.398116e+06           2.398116e+06            2.398116e+06   \n",
      "mean             2.707752e+01           1.330830e+00            1.882103e+02   \n",
      "std              6.555438e+00           4.705120e-01            4.107597e+01   \n",
      "min              1.300000e+01           1.000000e+00            1.000000e+02   \n",
      "25%              2.250000e+01           1.000000e+00            1.600000e+02   \n",
      "50%              2.570000e+01           1.000000e+00            1.810000e+02   \n",
      "75%              3.020000e+01           2.000000e+00            2.100000e+02   \n",
      "max              6.980000e+01           2.000000e+00            4.000000e+02   \n",
      "\n",
      "        mother_race  mother_height  mother_weight_gain    father_age  \\\n",
      "count  2.398116e+06   2.398116e+06        2.398116e+06  2.398116e+06   \n",
      "mean   1.522342e+00   6.410889e+01        2.946891e+01  3.165261e+01   \n",
      "std    1.111554e+00   2.687324e+00        1.491270e+01  6.156807e+00   \n",
      "min    1.000000e+00   3.000000e+01        0.000000e+00  1.100000e+01   \n",
      "25%    1.000000e+00   6.200000e+01        2.000000e+01  2.800000e+01   \n",
      "50%    1.000000e+00   6.400000e+01        2.900000e+01  3.100000e+01   \n",
      "75%    2.000000e+00   6.600000e+01        3.800000e+01  3.500000e+01   \n",
      "max    6.000000e+00   7.800000e+01        9.800000e+01  9.800000e+01   \n",
      "\n",
      "       father_education  cigarettes_before_pregnancy  prenatal_care_month  \\\n",
      "count      2.398116e+06                 2.398116e+06         2.398116e+06   \n",
      "mean       4.904241e+00                 1.099184e+00         5.295876e+00   \n",
      "std        2.305806e+00                 4.719967e+00         1.505508e+01   \n",
      "min        1.000000e+00                 0.000000e+00         0.000000e+00   \n",
      "25%        3.000000e+00                 0.000000e+00         2.000000e+00   \n",
      "50%        4.000000e+00                 0.000000e+00         3.000000e+00   \n",
      "75%        6.000000e+00                 0.000000e+00         3.000000e+00   \n",
      "max        9.000000e+00                 9.800000e+01         9.900000e+01   \n",
      "\n",
      "       ...  n_mother_height  n_mother_weight_gain  n_father_age  \\\n",
      "count  ...     2.398116e+06          2.398116e+06  2.398116e+06   \n",
      "mean   ...     1.019671e-01          3.063780e-02  1.853563e-01   \n",
      "std    ...     3.026051e-01          1.723344e-01  3.885864e-01   \n",
      "min    ...     0.000000e+00          0.000000e+00  0.000000e+00   \n",
      "25%    ...     0.000000e+00          0.000000e+00  0.000000e+00   \n",
      "50%    ...     0.000000e+00          0.000000e+00  0.000000e+00   \n",
      "75%    ...     0.000000e+00          0.000000e+00  0.000000e+00   \n",
      "max    ...     1.000000e+00          1.000000e+00  1.000000e+00   \n",
      "\n",
      "       n_cigarettes_before_pregnancy  n_number_prenatal_visits        nt_sum  \\\n",
      "count                   2.398116e+06              2.398116e+06  2.398116e+06   \n",
      "mean                    4.712449e-03              2.497836e-02  2.150471e-01   \n",
      "std                     6.848536e-02              1.560591e-01  4.304328e-01   \n",
      "min                     0.000000e+00              0.000000e+00  0.000000e+00   \n",
      "25%                     0.000000e+00              0.000000e+00  0.000000e+00   \n",
      "50%                     0.000000e+00              0.000000e+00  0.000000e+00   \n",
      "75%                     0.000000e+00              0.000000e+00  0.000000e+00   \n",
      "max                     1.000000e+00              1.000000e+00  3.000000e+00   \n",
      "\n",
      "       prenatal_care_month*number_prenatal_visits  \\\n",
      "count                                2.398116e+06   \n",
      "mean                                 5.686250e+01   \n",
      "std                                  1.678741e+02   \n",
      "min                                  0.000000e+00   \n",
      "25%                                  2.200000e+01   \n",
      "50%                                  3.000000e+01   \n",
      "75%                                  3.900000e+01   \n",
      "max                                  7.425000e+03   \n",
      "\n",
      "       mother_height*mother_weight_gain  father_age*number_prenatal_visits  \\\n",
      "count                      2.398116e+06                       2.398116e+06   \n",
      "mean                       1.893922e+03                       3.585970e+02   \n",
      "std                        9.733804e+02                       1.540011e+02   \n",
      "min                        0.000000e+00                       0.000000e+00   \n",
      "25%                        1.280000e+03                       2.700000e+02   \n",
      "50%                        1.856000e+03                       3.500885e+02   \n",
      "75%                        2.440000e+03                       4.340000e+02   \n",
      "max                        7.644000e+03                       4.268000e+03   \n",
      "\n",
      "       father_education*prenatal_care_month  \n",
      "count                          2.398116e+06  \n",
      "mean                           2.669968e+01  \n",
      "std                            8.843468e+01  \n",
      "min                            0.000000e+00  \n",
      "25%                            8.000000e+00  \n",
      "50%                            1.200000e+01  \n",
      "75%                            1.800000e+01  \n",
      "max                            8.910000e+02  \n",
      "\n",
      "[8 rows x 25 columns]\n"
     ]
    }
   ],
   "source": [
    "#descriptive statistics of features \n",
    "print(\"Descriptive Statistics\")\n",
    "print('*'*100)\n",
    "print(newborn_train.describe())"
   ]
  },
  {
   "cell_type": "code",
   "execution_count": 51,
   "id": "ce159beb",
   "metadata": {},
   "outputs": [
    {
     "data": {
      "text/html": [
       "<div>\n",
       "<style scoped>\n",
       "    .dataframe tbody tr th:only-of-type {\n",
       "        vertical-align: middle;\n",
       "    }\n",
       "\n",
       "    .dataframe tbody tr th {\n",
       "        vertical-align: top;\n",
       "    }\n",
       "\n",
       "    .dataframe thead th {\n",
       "        text-align: right;\n",
       "    }\n",
       "</style>\n",
       "<table border=\"1\" class=\"dataframe\">\n",
       "  <thead>\n",
       "    <tr style=\"text-align: right;\">\n",
       "      <th></th>\n",
       "      <th>newborn_weight</th>\n",
       "      <th>prenatal_care_month*number_prenatal_visits</th>\n",
       "      <th>mother_height*mother_weight_gain</th>\n",
       "      <th>father_age*number_prenatal_visits</th>\n",
       "      <th>father_education*prenatal_care_month</th>\n",
       "    </tr>\n",
       "  </thead>\n",
       "  <tbody>\n",
       "    <tr>\n",
       "      <th>newborn_weight</th>\n",
       "      <td>1.00</td>\n",
       "      <td>-0.03</td>\n",
       "      <td>0.17</td>\n",
       "      <td>0.13</td>\n",
       "      <td>-0.04</td>\n",
       "    </tr>\n",
       "    <tr>\n",
       "      <th>prenatal_care_month*number_prenatal_visits</th>\n",
       "      <td>-0.03</td>\n",
       "      <td>1.00</td>\n",
       "      <td>0.00</td>\n",
       "      <td>0.04</td>\n",
       "      <td>0.86</td>\n",
       "    </tr>\n",
       "    <tr>\n",
       "      <th>mother_height*mother_weight_gain</th>\n",
       "      <td>0.17</td>\n",
       "      <td>0.00</td>\n",
       "      <td>1.00</td>\n",
       "      <td>0.05</td>\n",
       "      <td>-0.00</td>\n",
       "    </tr>\n",
       "    <tr>\n",
       "      <th>father_age*number_prenatal_visits</th>\n",
       "      <td>0.13</td>\n",
       "      <td>0.04</td>\n",
       "      <td>0.05</td>\n",
       "      <td>1.00</td>\n",
       "      <td>-0.03</td>\n",
       "    </tr>\n",
       "    <tr>\n",
       "      <th>father_education*prenatal_care_month</th>\n",
       "      <td>-0.04</td>\n",
       "      <td>0.86</td>\n",
       "      <td>-0.00</td>\n",
       "      <td>-0.03</td>\n",
       "      <td>1.00</td>\n",
       "    </tr>\n",
       "  </tbody>\n",
       "</table>\n",
       "</div>"
      ],
      "text/plain": [
       "                                            newborn_weight  \\\n",
       "newborn_weight                                        1.00   \n",
       "prenatal_care_month*number_prenatal_visits           -0.03   \n",
       "mother_height*mother_weight_gain                      0.17   \n",
       "father_age*number_prenatal_visits                     0.13   \n",
       "father_education*prenatal_care_month                 -0.04   \n",
       "\n",
       "                                            prenatal_care_month*number_prenatal_visits  \\\n",
       "newborn_weight                                                                   -0.03   \n",
       "prenatal_care_month*number_prenatal_visits                                        1.00   \n",
       "mother_height*mother_weight_gain                                                  0.00   \n",
       "father_age*number_prenatal_visits                                                 0.04   \n",
       "father_education*prenatal_care_month                                              0.86   \n",
       "\n",
       "                                            mother_height*mother_weight_gain  \\\n",
       "newborn_weight                                                          0.17   \n",
       "prenatal_care_month*number_prenatal_visits                              0.00   \n",
       "mother_height*mother_weight_gain                                        1.00   \n",
       "father_age*number_prenatal_visits                                       0.05   \n",
       "father_education*prenatal_care_month                                   -0.00   \n",
       "\n",
       "                                            father_age*number_prenatal_visits  \\\n",
       "newborn_weight                                                           0.13   \n",
       "prenatal_care_month*number_prenatal_visits                               0.04   \n",
       "mother_height*mother_weight_gain                                         0.05   \n",
       "father_age*number_prenatal_visits                                        1.00   \n",
       "father_education*prenatal_care_month                                    -0.03   \n",
       "\n",
       "                                            father_education*prenatal_care_month  \n",
       "newborn_weight                                                             -0.04  \n",
       "prenatal_care_month*number_prenatal_visits                                  0.86  \n",
       "mother_height*mother_weight_gain                                           -0.00  \n",
       "father_age*number_prenatal_visits                                          -0.03  \n",
       "father_education*prenatal_care_month                                        1.00  "
      ]
     },
     "execution_count": 51,
     "metadata": {},
     "output_type": "execute_result"
    }
   ],
   "source": [
    "#Correlation between values y-variable and continuous data \n",
    "continuous_data = ['newborn_weight','prenatal_care_month*number_prenatal_visits', 'mother_height*mother_weight_gain', 'father_age*number_prenatal_visits', 'father_education*prenatal_care_month'] #variables used\n",
    "\n",
    "newborn_train_corr = newborn_train[continuous_data].corr(method = 'pearson').round(decimals=2)\n",
    "newborn_train_corr #priting the correlation table"
   ]
  },
  {
   "cell_type": "code",
   "execution_count": 52,
   "id": "4dad160f",
   "metadata": {},
   "outputs": [
    {
     "name": "stdout",
     "output_type": "stream",
     "text": [
      "<class 'pandas.core.frame.DataFrame'>\n",
      "RangeIndex: 2398116 entries, 0 to 2398115\n",
      "Data columns (total 5 columns):\n",
      " #   Column                                      Dtype  \n",
      "---  ------                                      -----  \n",
      " 0   newborn_weight                              int64  \n",
      " 1   prenatal_care_month*number_prenatal_visits  float64\n",
      " 2   mother_height*mother_weight_gain            float64\n",
      " 3   father_age*number_prenatal_visits           float64\n",
      " 4   father_education*prenatal_care_month        int64  \n",
      "dtypes: float64(3), int64(2)\n",
      "memory usage: 91.5 MB\n"
     ]
    }
   ],
   "source": [
    "# df_train.info()\n",
    "# type(\"newborn_weight\")\n",
    "# pd.to_numeric(\"newborn_weight\")\n",
    "newborn_train_set =newborn_train[continuous_data]\n",
    "newborn_train_set.info()"
   ]
  },
  {
   "cell_type": "markdown",
   "id": "2c4fa85b",
   "metadata": {},
   "source": [
    "# Data Correlation"
   ]
  },
  {
   "cell_type": "code",
   "execution_count": 53,
   "id": "f9c19036",
   "metadata": {},
   "outputs": [
    {
     "data": {
      "image/png": "[encoded data removed]",
      "text/plain": [
       "<Figure size 864x864 with 2 Axes>"
      ]
     },
     "metadata": {
      "needs_background": "light"
     },
     "output_type": "display_data"
    },
    {
     "data": {
      "image/png": "[encoded data removed]",
      "text/plain": [
       "<Figure size 432x288 with 1 Axes>"
      ]
     },
     "metadata": {
      "needs_background": "light"
     },
     "output_type": "display_data"
    },
    {
     "data": {
      "image/png": "[encoded data removed]",
      "text/plain": [
       "<Figure size 432x288 with 1 Axes>"
      ]
     },
     "metadata": {
      "needs_background": "light"
     },
     "output_type": "display_data"
    },
    {
     "data": {
      "image/png": "[encoded data removed]",
      "text/plain": [
       "<Figure size 432x288 with 1 Axes>"
      ]
     },
     "metadata": {
      "needs_background": "light"
     },
     "output_type": "display_data"
    }
   ],
   "source": [
    "###### correlation with more appealing visual\n",
    "# specifying plot size \n",
    "fig, ax = plt.subplots(figsize=(12,12))\n",
    "\n",
    "\n",
    "# developing a heatmap\n",
    "sns.heatmap(data       = newborn_train_corr, \n",
    "            cmap       = 'gray_r',     \n",
    "            square     = True,          \n",
    "            annot      = True,          \n",
    "            linecolor  = 'black',       \n",
    "            linewidths = 0.5)          \n",
    "\n",
    "\n",
    "# title and displaying the plot\n",
    "plt.title(\"\"\"\n",
    "Linear Correlation Heatmap for Newborn_train Features\n",
    "\"\"\")\n",
    "plt.show()\n",
    "\n",
    "# histogram for newborn_weight (y_variable)\n",
    "sns.histplot(data   = newborn_train,\n",
    "             x      = 'newborn_weight',\n",
    "             kde    = True)\n",
    "\n",
    "#ddiding a mean and median line\n",
    "plt.axvline(x = newborn_train[\"newborn_weight\"].mean(),\n",
    "           color =\"red\")\n",
    "plt.axvline(x = newborn_train[\"newborn_weight\"].median(),\n",
    "           color =\"blue\")\n",
    "\n",
    "# title and displaying the plot\n",
    "plt.title(\"\"\"\n",
    "newborn_weight Distribution\n",
    "\"\"\")\n",
    "# rendering the plot\n",
    "plt.show()\n",
    "\n",
    "#creating logarithm value for bwght\n",
    "newborn_train['log_newborn_weight'] = np.log(newborn_train['newborn_weight'])\n",
    "\n",
    "sns.histplot(data=newborn_train, x='newborn_weight', kde=True)\n",
    "\n",
    "# dividing a mean and median line\n",
    "plt.axvline(x=newborn_train[\"newborn_weight\"].mean(), color=\"red\")\n",
    "plt.axvline(x=newborn_train[\"newborn_weight\"].median(), color=\"blue\")\n",
    "\n",
    "# title and displaying the plot\n",
    "plt.title(\"\"\"\n",
    "newborn_weight Distribution\n",
    "\"\"\")\n",
    "# rendering the plot\n",
    "plt.show()\n",
    "\n",
    "# creating logarithm value for bwght\n",
    "newborn_train['log_newborn_weight'] = np.log(newborn_train['newborn_weight'])\n",
    "\n",
    "# histogram for bwght (log(y)_variable)\n",
    "sns.histplot(data=newborn_train, x='log_newborn_weight', kde=True)\n",
    "\n",
    "# dividing a mean and median line\n",
    "plt.axvline(x=newborn_train[\"log_newborn_weight\"].mean(), color=\"red\")\n",
    "plt.axvline(x=newborn_train[\"log_newborn_weight\"].median(), color=\"blue\")\n",
    "\n",
    "# title and displaying the plot\n",
    "plt.title(\"\"\"\n",
    "newborn_weight Distribution with Log(y)\n",
    "\"\"\")\n",
    "# rendering the plot\n",
    "plt.show()"
   ]
  },
  {
   "cell_type": "code",
   "execution_count": 54,
   "id": "1cd26d28",
   "metadata": {},
   "outputs": [
    {
     "name": "stdout",
     "output_type": "stream",
     "text": [
      "newborn_weight                                1.000000\n",
      "log_newborn_weight                            0.953599\n",
      "mother_height*mother_weight_gain              0.171827\n",
      "mother_delivery_weight                        0.169068\n",
      "mother_weight_gain                            0.163702\n",
      "number_prenatal_visits                        0.149021\n",
      "father_age*number_prenatal_visits             0.134603\n",
      "mother_height                                 0.134012\n",
      "mother_body_mass_index                        0.060667\n",
      "father_age                                    0.021322\n",
      "n_mother_marital_status                       0.012772\n",
      "n_mother_height                              -0.001511\n",
      "n_cigarettes_before_pregnancy                -0.014493\n",
      "n_mother_body_mass_index                     -0.016732\n",
      "n_mother_delivery_weight                     -0.021763\n",
      "prenatal_care_month*number_prenatal_visits   -0.028137\n",
      "father_education                             -0.030075\n",
      "n_mother_weight_gain                         -0.036189\n",
      "n_number_prenatal_visits                     -0.038573\n",
      "prenatal_care_month                          -0.041084\n",
      "father_education*prenatal_care_month         -0.043801\n",
      "cigarettes_before_pregnancy                  -0.063372\n",
      "n_father_age                                 -0.072424\n",
      "mother_race                                  -0.076518\n",
      "nt_sum                                       -0.081674\n",
      "mother_marital_status                        -0.106353\n",
      "Name: newborn_weight, dtype: float64\n"
     ]
    }
   ],
   "source": [
    "corr = newborn_train.corr()\n",
    "print(corr['newborn_weight'].sort_values(ascending=False))"
   ]
  },
  {
   "cell_type": "code",
   "execution_count": 55,
   "id": "6b15d29c",
   "metadata": {},
   "outputs": [],
   "source": [
    "newborn_train_selected = newborn_train[[\n",
    "           \n",
    "'mother_delivery_weight',      \n",
    "'mother_height',               \n",
    "'mother_weight_gain',          \n",
    "'newborn_gender',              \n",
    "'number_prenatal_visits',            \n",
    "'mother_race',                \n",
    "'mother_body_mass_index',     \n",
    "'cigarettes_before_pregnancy',   \n",
    "'newborn_weight'             \n",
    "    ]]\n",
    "    \n",
    "    "
   ]
  },
  {
   "cell_type": "code",
   "execution_count": 56,
   "id": "f359ed0f",
   "metadata": {},
   "outputs": [
    {
     "data": {
      "image/png": "[encoded data removed]",
      "text/plain": [
       "<Figure size 1296x1080 with 2 Axes>"
      ]
     },
     "metadata": {
      "needs_background": "light"
     },
     "output_type": "display_data"
    }
   ],
   "source": [
    "corr = newborn_train_selected.corr()\n",
    "\n",
    "plt.figure(figsize=(18,15))\n",
    "sns.heatmap(corr, annot=True, vmin=-1.0, cmap='viridis')\n",
    "plt.title('Correlation Heatmap')\n",
    "plt.show()"
   ]
  },
  {
   "cell_type": "code",
   "execution_count": 57,
   "id": "31ea9522",
   "metadata": {},
   "outputs": [
    {
     "data": {
      "image/png": "[encoded data removed]",
      "text/plain": [
       "<Figure size 432x288 with 1 Axes>"
      ]
     },
     "metadata": {},
     "output_type": "display_data"
    }
   ],
   "source": [
    "marital_status_counts = newborn_train['mother_marital_status'].value_counts()\n",
    "labels = ['Married', 'Not Married']\n",
    "plt.pie(marital_status_counts, labels=labels, autopct='%1.1f%%')\n",
    "plt.title('Marital Status of Mothers')\n",
    "plt.show()"
   ]
  },
  {
   "cell_type": "code",
   "execution_count": 58,
   "id": "c604a942",
   "metadata": {},
   "outputs": [
    {
     "data": {
      "image/png": "[encoded data removed]",
      "text/plain": [
       "<Figure size 432x288 with 1 Axes>"
      ]
     },
     "metadata": {
      "needs_background": "light"
     },
     "output_type": "display_data"
    }
   ],
   "source": [
    "plt.scatter(newborn_train['mother_delivery_weight'], newborn_train['mother_height'])\n",
    "plt.xlabel('Delivery Weight (lbs)')\n",
    "plt.ylabel('Height (inches)')\n",
    "plt.title('Scatter Plot of Delivery Weight vs. Height')\n",
    "plt.show()"
   ]
  },
  {
   "cell_type": "markdown",
   "id": "6f0faf36",
   "metadata": {},
   "source": [
    "# Data Preparation"
   ]
  },
  {
   "cell_type": "code",
   "execution_count": 59,
   "id": "946f2e2e",
   "metadata": {},
   "outputs": [
    {
     "data": {
      "text/html": [
       "<div>\n",
       "<style scoped>\n",
       "    .dataframe tbody tr th:only-of-type {\n",
       "        vertical-align: middle;\n",
       "    }\n",
       "\n",
       "    .dataframe tbody tr th {\n",
       "        vertical-align: top;\n",
       "    }\n",
       "\n",
       "    .dataframe thead th {\n",
       "        text-align: right;\n",
       "    }\n",
       "</style>\n",
       "<table border=\"1\" class=\"dataframe\">\n",
       "  <thead>\n",
       "    <tr style=\"text-align: right;\">\n",
       "      <th></th>\n",
       "      <th>mother_delivery_weight</th>\n",
       "      <th>mother_height</th>\n",
       "      <th>mother_weight_gain</th>\n",
       "      <th>newborn_gender</th>\n",
       "      <th>number_prenatal_visits</th>\n",
       "      <th>mother_race</th>\n",
       "      <th>mother_body_mass_index</th>\n",
       "      <th>cigarettes_before_pregnancy</th>\n",
       "      <th>newborn_weight</th>\n",
       "    </tr>\n",
       "  </thead>\n",
       "  <tbody>\n",
       "    <tr>\n",
       "      <th>0</th>\n",
       "      <td>220.0</td>\n",
       "      <td>65.0</td>\n",
       "      <td>35.0</td>\n",
       "      <td>1</td>\n",
       "      <td>10.000000</td>\n",
       "      <td>1</td>\n",
       "      <td>30.8</td>\n",
       "      <td>0.0</td>\n",
       "      <td>3045</td>\n",
       "    </tr>\n",
       "    <tr>\n",
       "      <th>1</th>\n",
       "      <td>293.0</td>\n",
       "      <td>64.0</td>\n",
       "      <td>26.0</td>\n",
       "      <td>1</td>\n",
       "      <td>10.000000</td>\n",
       "      <td>1</td>\n",
       "      <td>45.8</td>\n",
       "      <td>0.0</td>\n",
       "      <td>3061</td>\n",
       "    </tr>\n",
       "    <tr>\n",
       "      <th>2</th>\n",
       "      <td>181.0</td>\n",
       "      <td>66.0</td>\n",
       "      <td>29.0</td>\n",
       "      <td>1</td>\n",
       "      <td>11.293179</td>\n",
       "      <td>1</td>\n",
       "      <td>25.7</td>\n",
       "      <td>0.0</td>\n",
       "      <td>3827</td>\n",
       "    </tr>\n",
       "    <tr>\n",
       "      <th>3</th>\n",
       "      <td>157.0</td>\n",
       "      <td>64.0</td>\n",
       "      <td>20.0</td>\n",
       "      <td>2</td>\n",
       "      <td>9.000000</td>\n",
       "      <td>1</td>\n",
       "      <td>24.3</td>\n",
       "      <td>0.0</td>\n",
       "      <td>3997</td>\n",
       "    </tr>\n",
       "    <tr>\n",
       "      <th>4</th>\n",
       "      <td>187.0</td>\n",
       "      <td>65.0</td>\n",
       "      <td>42.0</td>\n",
       "      <td>1</td>\n",
       "      <td>12.000000</td>\n",
       "      <td>1</td>\n",
       "      <td>24.1</td>\n",
       "      <td>0.0</td>\n",
       "      <td>3240</td>\n",
       "    </tr>\n",
       "  </tbody>\n",
       "</table>\n",
       "</div>"
      ],
      "text/plain": [
       "   mother_delivery_weight  mother_height  mother_weight_gain  newborn_gender  \\\n",
       "0                   220.0           65.0                35.0               1   \n",
       "1                   293.0           64.0                26.0               1   \n",
       "2                   181.0           66.0                29.0               1   \n",
       "3                   157.0           64.0                20.0               2   \n",
       "4                   187.0           65.0                42.0               1   \n",
       "\n",
       "   number_prenatal_visits  mother_race  mother_body_mass_index  \\\n",
       "0               10.000000            1                    30.8   \n",
       "1               10.000000            1                    45.8   \n",
       "2               11.293179            1                    25.7   \n",
       "3                9.000000            1                    24.3   \n",
       "4               12.000000            1                    24.1   \n",
       "\n",
       "   cigarettes_before_pregnancy  newborn_weight  \n",
       "0                          0.0            3045  \n",
       "1                          0.0            3061  \n",
       "2                          0.0            3827  \n",
       "3                          0.0            3997  \n",
       "4                          0.0            3240  "
      ]
     },
     "execution_count": 59,
     "metadata": {},
     "output_type": "execute_result"
    }
   ],
   "source": [
    "newborn_train_selected['newborn_gender'] = newborn_train_selected['newborn_gender'].map({'F':1,'M':2})\n",
    "newborn_train_selected.head()"
   ]
  },
  {
   "cell_type": "markdown",
   "id": "2a366dc0",
   "metadata": {},
   "source": [
    "# Algorithm Selection"
   ]
  },
  {
   "cell_type": "code",
   "execution_count": 60,
   "id": "a36fe6e1",
   "metadata": {},
   "outputs": [],
   "source": [
    "# Create a function to calculate MAPE\n",
    "def mean_absolute_percentage_error(y_true, y_pred): \n",
    "    y_true, y_pred = np.array(y_true), np.array(y_pred)\n",
    "    return np.mean(np.abs((y_true - y_pred) / y_true)) * 100"
   ]
  },
  {
   "cell_type": "code",
   "execution_count": 61,
   "id": "69ff116d",
   "metadata": {},
   "outputs": [],
   "source": [
    "X_train = newborn_train_selected.drop('newborn_weight', axis=1)\n",
    "y_train = newborn_train_selected['newborn_weight']\n",
    "X_test = newborn_test\n",
    "# Division into attributes and target variable"
   ]
  },
  {
   "cell_type": "code",
   "execution_count": 62,
   "id": "e6b2cc81",
   "metadata": {},
   "outputs": [],
   "source": [
    "X_train, X_val, y_train, y_val = train_test_split(X_train, y_train, test_size=0.2, random_state=42)\n",
    "# Dividing the training sample into training and validation00000"
   ]
  },
  {
   "cell_type": "code",
   "execution_count": 63,
   "id": "14e5c313",
   "metadata": {},
   "outputs": [],
   "source": [
    "models = [\n",
    "    LinearRegression(),\n",
    "    KNeighborsRegressor(),\n",
    "    SVR(kernel='linear'),\n",
    "]"
   ]
  },
  {
   "cell_type": "code",
   "execution_count": null,
   "id": "e08d9010",
   "metadata": {},
   "outputs": [
    {
     "name": "stdout",
     "output_type": "stream",
     "text": [
      "MAPE for LinearRegression: 16.462683547078427\n",
      "MAPE for KNeighborsRegressor: 17.440319662209518\n"
     ]
    }
   ],
   "source": [
    "for model in models:\n",
    "    model.fit(X_train, y_train)\n",
    "    y_pred = model.predict(X_val)\n",
    "    mape = mean_absolute_percentage_error(y_val, y_pred)\n",
    "    print(f\"MAPE for {type(model).__name__}: {mape}\")"
   ]
  },
  {
   "cell_type": "markdown",
   "id": "2a91d706",
   "metadata": {},
   "source": [
    "# Test Data Preprocessing"
   ]
  },
  {
   "cell_type": "code",
   "execution_count": null,
   "id": "a6ac6605",
   "metadata": {},
   "outputs": [],
   "source": [
    "# Indicated the specific columns you would like to include.\n",
    "selected_columns = [\n",
    "    'mother_delivery_weight',\n",
    "    'mother_height',\n",
    "    'mother_weight_gain',\n",
    "    'newborn_gender',\n",
    "    'number_prenatal_visits',\n",
    "    'mother_race',\n",
    "    'mother_body_mass_index',\n",
    "    'cigarettes_before_pregnancy'\n",
    "]\n",
    "\n",
    "# Create the new DataFrame\n",
    "newborn_test_selected = newborn_test[selected_columns].copy()"
   ]
  },
  {
   "cell_type": "code",
   "execution_count": null,
   "id": "ca230a8e",
   "metadata": {},
   "outputs": [],
   "source": [
    "# Now use the model to predict 'newborn_weight'\n",
    "predicted_values = best_model.predict(newborn_test_selected)\n",
    "\n",
    "# Create a copy of the original dataframe\n",
    "newborn_test_selected_predictions = newborn_test_selected.copy()\n",
    "\n",
    "# Add the predicted 'newborn_weight' values to the DataFrame\n",
    "newborn_test_selected_predictions['newborn_weight'] = predicted_values"
   ]
  },
  {
   "cell_type": "code",
   "execution_count": null,
   "id": "be57ed45",
   "metadata": {},
   "outputs": [],
   "source": [
    "newborn_test_selected_with_predictions.head(20)"
   ]
  },
  {
   "cell_type": "code",
   "execution_count": null,
   "id": "1c85026d",
   "metadata": {},
   "outputs": [],
   "source": []
  },
  {
   "cell_type": "code",
   "execution_count": null,
   "id": "1e5cf8d7",
   "metadata": {},
   "outputs": [],
   "source": []
  }
 ],
 "metadata": {
  "kernelspec": {
   "display_name": "Python 3 (ipykernel)",
   "language": "python",
   "name": "python3"
  },
  "language_info": {
   "codemirror_mode": {
    "name": "ipython",
    "version": 3
   },
   "file_extension": ".py",
   "mimetype": "text/x-python",
   "name": "python",
   "nbconvert_exporter": "python",
   "pygments_lexer": "ipython3",
   "version": "3.9.12"
  }
 },
 "nbformat": 4,
 "nbformat_minor": 5
}
